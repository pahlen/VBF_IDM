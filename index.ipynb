{
 "cells": [
  {
   "cell_type": "markdown",
   "metadata": {},
   "source": [
    "# Vector boson fusion in IDM"
   ]
  },
  {
   "cell_type": "markdown",
   "metadata": {},
   "source": [
    "The final notebook is [Significance_countours.ipynb](./Significance_countours.ipynb) which is based on [Sensitivity_fit.ipynb](Sensitivity_fit.ipynb) which is based on [Sensitivity_plots.ipynb](Sensitivity_plots.ipynb) by JD"
   ]
  },
  {
   "cell_type": "code",
   "execution_count": 1,
   "metadata": {},
   "outputs": [
    {
     "name": "stdout",
     "output_type": "stream",
     "text": [
      "Populating the interactive namespace from numpy and matplotlib\n"
     ]
    }
   ],
   "source": [
    "%pylab inline"
   ]
  },
  {
   "cell_type": "code",
   "execution_count": 56,
   "metadata": {
    "collapsed": true
   },
   "outputs": [],
   "source": [
    "import sys\n",
    "from subprocess import run"
   ]
  },
  {
   "cell_type": "markdown",
   "metadata": {},
   "source": [
    "## Install root 5"
   ]
  },
  {
   "cell_type": "markdown",
   "metadata": {},
   "source": [
    "### Prerequisites \n",
    "```bash\n",
    "apt-get install cmake git dpkg-dev make g++ gcc binutils libx11-dev libxpm-dev \\\n",
    "libxft-dev libxext-dev gfortran libssl-dev libpcre3-dev \\\n",
    "xlibmesa-glu-dev libglew1.5-dev libftgl-dev \\\n",
    "libmysqlclient-dev libfftw3-dev libcfitsio-dev \\\n",
    "graphviz-dev libavahi-compat-libdnssd-dev \\\n",
    "libldap2-dev python-dev libxml2-dev libkrb5-dev \\\n",
    "libgsl0-dev libqt4-dev r-base r-base-dev python-pip\n",
    "```"
   ]
  },
  {
   "cell_type": "markdown",
   "metadata": {},
   "source": [
    "Install ROOT 5 in some `PATH`\n",
    "```bash\n",
    "git clone http://root.cern.ch/git/root.git\n",
    "cd root\n",
    "git checkout v5-34-00-patches\n",
    "./configure\n",
    "make\n",
    "\n",
    "```\n",
    "Add to your `.bashrc`\n",
    "```bash\n",
    "source PATH/root/bin/thisroot.sh\n",
    "```"
   ]
  },
  {
   "cell_type": "markdown",
   "metadata": {},
   "source": [
    "# Development of module to calculate one specific point"
   ]
  },
  {
   "cell_type": "code",
   "execution_count": 3,
   "metadata": {
    "collapsed": true
   },
   "outputs": [],
   "source": [
    "%%bash\n",
    "#git clone  --recursive git@gitlab.com:restrepo/VBF_IDM.git"
   ]
  },
  {
   "cell_type": "code",
   "execution_count": 2,
   "metadata": {},
   "outputs": [
    {
     "name": "stderr",
     "output_type": "stream",
     "text": [
      "Switched to a new branch 'v2.3.3'\n"
     ]
    }
   ],
   "source": [
    "%%bash\n",
    "cd madgraph/\n",
    "git checkout -b v2.3.3\n",
    "./bin/mg5_aMC install.dat > /tmp/kk 2> /tmp/kkk\n",
    "cd .."
   ]
  },
  {
   "cell_type": "code",
   "execution_count": 3,
   "metadata": {
    "collapsed": true
   },
   "outputs": [],
   "source": [
    "LambdasL=[0.01,0.02,0.05,0.07,0.1,0.15,0.2,0.25,0.3,0.35,0.4,0.45,0.5,0.55,0.6,1.0,3.0,5.0,7.0,10.0]"
   ]
  },
  {
   "cell_type": "code",
   "execution_count": 60,
   "metadata": {
    "collapsed": true
   },
   "outputs": [],
   "source": [
    "MH0=np.array([70,75,80,85,90,110,130,150,170,190,210,220,240])"
   ]
  },
  {
   "cell_type": "code",
   "execution_count": 65,
   "metadata": {},
   "outputs": [
    {
     "data": {
      "text/plain": [
       "20"
      ]
     },
     "execution_count": 65,
     "metadata": {},
     "output_type": "execute_result"
    }
   ],
   "source": [
    "len(LambdasL)"
   ]
  },
  {
   "cell_type": "code",
   "execution_count": 66,
   "metadata": {},
   "outputs": [
    {
     "name": "stdout",
     "output_type": "stream",
     "text": [
      "1 70 0.01\n",
      "2 70 0.02\n",
      "3 70 0.05\n",
      "4 70 0.07\n",
      "5 70 0.1\n",
      "6 70 0.15\n",
      "7 70 0.2\n",
      "8 70 0.25\n",
      "9 70 0.3\n",
      "10 70 0.35\n",
      "11 70 0.4\n",
      "12 70 0.45\n",
      "13 70 0.5\n",
      "14 70 0.55\n",
      "15 70 0.6\n",
      "16 70 1.0\n",
      "17 70 3.0\n",
      "18 70 5.0\n",
      "19 70 7.0\n",
      "20 70 10.0\n",
      "1 75 0.01\n",
      "2 75 0.02\n",
      "3 75 0.05\n",
      "4 75 0.07\n",
      "5 75 0.1\n",
      "6 75 0.15\n",
      "7 75 0.2\n",
      "8 75 0.25\n",
      "9 75 0.3\n",
      "10 75 0.35\n",
      "11 75 0.4\n",
      "12 75 0.45\n",
      "13 75 0.5\n",
      "14 75 0.55\n",
      "15 75 0.6\n",
      "16 75 1.0\n",
      "17 75 3.0\n",
      "18 75 5.0\n",
      "19 75 7.0\n",
      "20 75 10.0\n",
      "1 80 0.01\n",
      "2 80 0.02\n",
      "3 80 0.05\n",
      "4 80 0.07\n",
      "5 80 0.1\n",
      "6 80 0.15\n",
      "7 80 0.2\n",
      "8 80 0.25\n",
      "9 80 0.3\n",
      "10 80 0.35\n",
      "11 80 0.4\n",
      "12 80 0.45\n",
      "13 80 0.5\n",
      "14 80 0.55\n",
      "15 80 0.6\n",
      "16 80 1.0\n",
      "17 80 3.0\n",
      "18 80 5.0\n",
      "19 80 7.0\n",
      "20 80 10.0\n",
      "1 85 0.01\n",
      "2 85 0.02\n",
      "3 85 0.05\n",
      "4 85 0.07\n",
      "5 85 0.1\n",
      "6 85 0.15\n",
      "7 85 0.2\n",
      "8 85 0.25\n",
      "9 85 0.3\n",
      "10 85 0.35\n",
      "11 85 0.4\n",
      "12 85 0.45\n",
      "13 85 0.5\n",
      "14 85 0.55\n",
      "15 85 0.6\n",
      "16 85 1.0\n",
      "17 85 3.0\n",
      "18 85 5.0\n",
      "19 85 7.0\n",
      "20 85 10.0\n",
      "1 90 0.01\n",
      "2 90 0.02\n",
      "3 90 0.05\n",
      "4 90 0.07\n",
      "5 90 0.1\n",
      "6 90 0.15\n",
      "7 90 0.2\n",
      "8 90 0.25\n",
      "9 90 0.3\n",
      "10 90 0.35\n",
      "11 90 0.4\n",
      "12 90 0.45\n",
      "13 90 0.5\n",
      "14 90 0.55\n",
      "15 90 0.6\n",
      "16 90 1.0\n",
      "17 90 3.0\n",
      "18 90 5.0\n",
      "19 90 7.0\n",
      "20 90 10.0\n",
      "1 110 0.01\n",
      "2 110 0.02\n",
      "3 110 0.05\n",
      "4 110 0.07\n",
      "5 110 0.1\n",
      "6 110 0.15\n",
      "7 110 0.2\n",
      "8 110 0.25\n",
      "9 110 0.3\n",
      "10 110 0.35\n",
      "11 110 0.4\n",
      "12 110 0.45\n",
      "13 110 0.5\n",
      "14 110 0.55\n",
      "15 110 0.6\n",
      "16 110 1.0\n",
      "17 110 3.0\n",
      "18 110 5.0\n",
      "19 110 7.0\n",
      "20 110 10.0\n",
      "1 130 0.01\n",
      "2 130 0.02\n",
      "3 130 0.05\n",
      "4 130 0.07\n",
      "5 130 0.1\n",
      "6 130 0.15\n",
      "7 130 0.2\n",
      "8 130 0.25\n",
      "9 130 0.3\n",
      "10 130 0.35\n",
      "11 130 0.4\n",
      "12 130 0.45\n",
      "13 130 0.5\n",
      "14 130 0.55\n",
      "15 130 0.6\n",
      "16 130 1.0\n",
      "17 130 3.0\n",
      "18 130 5.0\n",
      "19 130 7.0\n",
      "20 130 10.0\n",
      "1 150 0.01\n",
      "2 150 0.02\n",
      "3 150 0.05\n",
      "4 150 0.07\n",
      "5 150 0.1\n",
      "6 150 0.15\n",
      "7 150 0.2\n",
      "8 150 0.25\n",
      "9 150 0.3\n",
      "10 150 0.35\n",
      "11 150 0.4\n",
      "12 150 0.45\n",
      "13 150 0.5\n",
      "14 150 0.55\n",
      "15 150 0.6\n",
      "16 150 1.0\n",
      "17 150 3.0\n",
      "18 150 5.0\n",
      "19 150 7.0\n",
      "20 150 10.0\n",
      "1 170 0.01\n",
      "2 170 0.02\n",
      "3 170 0.05\n",
      "4 170 0.07\n",
      "5 170 0.1\n",
      "6 170 0.15\n",
      "7 170 0.2\n",
      "8 170 0.25\n",
      "9 170 0.3\n",
      "10 170 0.35\n",
      "11 170 0.4\n",
      "12 170 0.45\n",
      "13 170 0.5\n",
      "14 170 0.55\n",
      "15 170 0.6\n",
      "16 170 1.0\n",
      "17 170 3.0\n",
      "18 170 5.0\n",
      "19 170 7.0\n",
      "20 170 10.0\n",
      "1 190 0.01\n",
      "2 190 0.02\n",
      "3 190 0.05\n",
      "4 190 0.07\n",
      "5 190 0.1\n",
      "6 190 0.15\n",
      "7 190 0.2\n",
      "8 190 0.25\n",
      "9 190 0.3\n",
      "10 190 0.35\n",
      "11 190 0.4\n",
      "12 190 0.45\n",
      "13 190 0.5\n",
      "14 190 0.55\n",
      "15 190 0.6\n",
      "16 190 1.0\n",
      "17 190 3.0\n",
      "18 190 5.0\n",
      "19 190 7.0\n",
      "20 190 10.0\n",
      "1 210 0.01\n",
      "2 210 0.02\n",
      "3 210 0.05\n",
      "4 210 0.07\n",
      "5 210 0.1\n",
      "6 210 0.15\n",
      "7 210 0.2\n",
      "8 210 0.25\n",
      "9 210 0.3\n",
      "10 210 0.35\n",
      "11 210 0.4\n",
      "12 210 0.45\n",
      "13 210 0.5\n",
      "14 210 0.55\n",
      "15 210 0.6\n",
      "16 210 1.0\n",
      "17 210 3.0\n",
      "18 210 5.0\n",
      "19 210 7.0\n",
      "20 210 10.0\n",
      "1 220 0.01\n",
      "2 220 0.02\n",
      "3 220 0.05\n",
      "4 220 0.07\n",
      "5 220 0.1\n",
      "6 220 0.15\n",
      "7 220 0.2\n",
      "8 220 0.25\n",
      "9 220 0.3\n",
      "10 220 0.35\n",
      "11 220 0.4\n",
      "12 220 0.45\n",
      "13 220 0.5\n",
      "14 220 0.55\n",
      "15 220 0.6\n",
      "16 220 1.0\n",
      "17 220 3.0\n",
      "18 220 5.0\n",
      "19 220 7.0\n",
      "20 220 10.0\n",
      "1 240 0.01\n",
      "2 240 0.02\n",
      "3 240 0.05\n",
      "4 240 0.07\n",
      "5 240 0.1\n",
      "6 240 0.15\n",
      "7 240 0.2\n",
      "8 240 0.25\n",
      "9 240 0.3\n",
      "10 240 0.35\n",
      "11 240 0.4\n",
      "12 240 0.45\n",
      "13 240 0.5\n",
      "14 240 0.55\n",
      "15 240 0.6\n",
      "16 240 1.0\n",
      "17 240 3.0\n",
      "18 240 5.0\n",
      "19 240 7.0\n",
      "20 240 10.0\n"
     ]
    }
   ],
   "source": [
    "for M in MH0:\n",
    "    r=1\n",
    "    for lam in LambdasL:\n",
    "        print(r,M,lam)\n",
    "        r=r+1"
   ]
  },
  {
   "cell_type": "markdown",
   "metadata": {},
   "source": [
    "```bash\n",
    "rsiii@gfif:~/IDM_VBF/Samples/mh0_vs_lal/scan$ ls delphes_events_[0-9][0-9]_*.root | more\n",
    "delphes_events_70_001_.root\n",
    "delphes_events_70_002_.root\n",
    "delphes_events_70_003_.root\n",
    "...\n",
    "...\n",
    "delphes_events_90_018_.root\n",
    "delphes_events_90_019_.root\n",
    "delphes_events_90_020_.root\n",
    "```"
   ]
  },
  {
   "cell_type": "markdown",
   "metadata": {},
   "source": [
    "```bash\n",
    "rsiii@gfif:~/IDM_VBF/Samples/mh0_vs_lal/scan$ ls delphes_events_[0-9][0-9][0-9]_*.root | more\n",
    "delphes_events_110_001_.root\n",
    "delphes_events_110_002_.root\n",
    "delphes_events_110_003_.root\n",
    "...\n",
    "...\n",
    "delphes_events_240_018_.root\n",
    "delphes_events_240_019_.root\n",
    "delphes_events_240_020_.root\n",
    "```"
   ]
  },
  {
   "cell_type": "markdown",
   "metadata": {},
   "source": [
    "cat readme.txt \n",
    "date 23/01/2017\n",
    "Delphes output (.root) for the set the points contained in data_mh0_vs_x.dat\n",
    "\n",
    "The data is organized as follows (in ascending order in lambda_L[lal] ):\n",
    "\n",
    "#lal #mh0[GeV] #xs[fb]   #Delphes name\n",
    "0.3 63.75 200        --> delphes_events_2.root\n",
    "0.4 64.80 200        --> delphes_events_3.root \n",
    "0.5 66.32 200        --> delphes_events_4.root\n",
    "0.6 68.05 200        --> delphes_events_5.root \n",
    "0.7 70.04 200        --> delphes_events_6.root\n",
    ".   .     .          --> \n",
    ".   .     .          --> \n",
    ".   .     .          -->\n",
    "\n",
    "The cross-section (xs) for the processes p p > h0 h0 j j\n",
    "for all the set of points is around 200 fb. [Except for\n",
    "the first point, with lal=0.3,  where the cross-section turns out to be 179 fb.]"
   ]
  },
  {
   "cell_type": "code",
   "execution_count": 4,
   "metadata": {
    "collapsed": true
   },
   "outputs": [],
   "source": [
    "def preamble(MHc=750,MH0=110):\n",
    "    return '''import model InertDoublet_UFO\n",
    "define p = g u c d s b u~ c~ d~ s~ b~\n",
    "define j = p  \n",
    "define l+ = e+ mu+ \n",
    "define l- = e- mu- \n",
    "define vl = ve vm vt \n",
    "define vl~ = ve~ vm~ vt~\n",
    "\n",
    "generate p p > h2 h2 j j @0\n",
    "\n",
    "output ../studies/IDM/BP_'''+str(int(MHc))+'_'+str(int(MH0))+'''_vs_lambdaL\n",
    "\n",
    "'''\n",
    "\n",
    "def lamL_loop(MHc=750,MH0=110,lamL=0.01):\n",
    "    return '''launch ../studies/IDM/BP_'''+str(int(MHc))+'_'+str(int(MH0))+'''_vs_lambdaL\n",
    "../MadGraph_cards/benchmarks/param_card_BP'''+str(int(MHc))+'_'+str(int(MH0))+'''.dat\n",
    "../Cards/run_card.dat\n",
    "set wa0 auto\n",
    "set whch auto \n",
    "set lamL '''+str(lamL)+'''\n",
    "\n",
    "''' \n",
    "\n",
    "\n",
    "def closing(MHc=750,MH0=110):\n",
    "    return '''launch ../studies/IDM/BP_'''+str(int(MHc))+'_'+str(int(MH0))+'''_vs_lambdaL -i\n",
    "print_results --path=./result_BP_'''+str(int(MHc))+'_'+str(int(MH0))+'''_vs_lamdaL_mh0_110.txt --format=short\n",
    "\n",
    "done\n",
    "'''"
   ]
  },
  {
   "cell_type": "code",
   "execution_count": 8,
   "metadata": {},
   "outputs": [
    {
     "data": {
      "text/plain": [
       "''"
      ]
     },
     "execution_count": 8,
     "metadata": {},
     "output_type": "execute_result"
    }
   ],
   "source": [
    "run('mkdir -p studies/IDM/Task_Asana').stderr"
   ]
  },
  {
   "cell_type": "code",
   "execution_count": 14,
   "metadata": {
    "collapsed": true
   },
   "outputs": [],
   "source": [
    "MHc=750\n",
    "MH0=110\n",
    "f=open('studies/IDM/Task_Asana/BP_'+str(int(MHc))+'_A_'+str(int(MH0))+'.txt','w')\n",
    "f.write( preamble(MHc,MH0) )\n",
    "for lamL in LambdasL:\n",
    "    f.write( lamL_loop(MHc,MH0,lamL=lamL) )\n",
    "f.write( closing(MHc,MH0) )\n",
    "f.close()"
   ]
  },
  {
   "cell_type": "markdown",
   "metadata": {},
   "source": [
    "```bash\n",
    "# pip3 install subprocess.run && #pip2 install subprocess.run \n",
    "```"
   ]
  },
  {
   "cell_type": "code",
   "execution_count": 23,
   "metadata": {
    "collapsed": true
   },
   "outputs": [],
   "source": [
    "f=open('kk.sh','w')\n",
    "f.write('cd madgraph\\n./bin/mg5_aMC ../studies/IDM/Task_Asana/BP_'+str(int(MHc))+'_A_'+str(int(MH0))+'.txt > /tmp/kk' )\n",
    "f.close()"
   ]
  },
  {
   "cell_type": "code",
   "execution_count": null,
   "metadata": {
    "collapsed": true
   },
   "outputs": [],
   "source": [
    "run('bash kk.sh').stderr"
   ]
  },
  {
   "cell_type": "code",
   "execution_count": 4,
   "metadata": {
    "collapsed": true
   },
   "outputs": [],
   "source": [
    "%%bash\n",
    "cd madgraph/\n",
    "./bin/mg5_aMC ../studies/IDM/Task_Asana/BP_750_A_110.txt\n",
    "cd .."
   ]
  },
  {
   "cell_type": "code",
   "execution_count": 30,
   "metadata": {},
   "outputs": [
    {
     "data": {
      "text/plain": [
       "[1, 2, 3, 4, 5, 6, 7, 8, 9, 10, 11, 12, 13, 14, 15, 16, 17, 18, 19, 20]"
      ]
     },
     "execution_count": 30,
     "metadata": {},
     "output_type": "execute_result"
    }
   ],
   "source": [
    "list()"
   ]
  },
  {
   "cell_type": "code",
   "execution_count": 34,
   "metadata": {},
   "outputs": [
    {
     "name": "stdout",
     "output_type": "stream",
     "text": [
      "01\n"
     ]
    }
   ],
   "source": [
    "print(\"%02d\" % (1,))"
   ]
  },
  {
   "cell_type": "code",
   "execution_count": 35,
   "metadata": {
    "collapsed": true
   },
   "outputs": [],
   "source": []
  },
  {
   "cell_type": "code",
   "execution_count": 50,
   "metadata": {
    "collapsed": true
   },
   "outputs": [],
   "source": [
    "if len(LambdasL)>99:\n",
    "    sys.exit('ERROR: UPDATE FORMAT FOR > 99 runs')\n",
    "f=open('studies/IDM/Task_Asana/TemplateRunPythiaDelphes_all.dat','w')\n",
    "for r in range(1,len(LambdasL)+1):\n",
    "    f.write('pythia run_%02d\\n' %r)\n",
    "    f.write('3\\n')\n",
    "    f.write('0\\n')\n",
    "f.close()"
   ]
  },
  {
   "cell_type": "code",
   "execution_count": 58,
   "metadata": {
    "collapsed": true
   },
   "outputs": [],
   "source": [
    "f=open('kk.sh','w')\n",
    "f.write('cd studies/IDM/BP_'+str(int(MHc))+'_'+str(int(MH0))+'_vs_lambdaL\\n')\n",
    "f.write('./bin/madevent ../Task_Asana/TemplateRunPythiaDelphes_all.dat')\n",
    "f.close()"
   ]
  },
  {
   "cell_type": "code",
   "execution_count": 59,
   "metadata": {},
   "outputs": [
    {
     "data": {
      "text/plain": [
       "''"
      ]
     },
     "execution_count": 59,
     "metadata": {},
     "output_type": "execute_result"
    }
   ],
   "source": [
    "run('bash kk.sh').stderr"
   ]
  },
  {
   "cell_type": "code",
   "execution_count": null,
   "metadata": {
    "collapsed": true
   },
   "outputs": [],
   "source": [
    "# %load studies/IDM/Task_Asana/TemplateRunPythiaDelphes_all.dat\n",
    "pythia run_01\n",
    "3\n",
    "0\n",
    "pythia run_02\n",
    "3\n",
    "0\n",
    "pythia run_03\n",
    "3\n",
    "0\n",
    "pythia run_04\n",
    "3\n",
    "0\n",
    "pythia run_05\n",
    "3\n",
    "0\n",
    "pythia run_06\n",
    "3\n",
    "0\n",
    "pythia run_07\n",
    "3\n",
    "0\n",
    "pythia run_08\n",
    "3\n",
    "0\n",
    "pythia run_09\n",
    "3\n",
    "0\n",
    "pythia run_10\n",
    "3\n",
    "0\n",
    "pythia run_11\n",
    "3\n",
    "0\n",
    "pythia run_12\n",
    "3\n",
    "0\n",
    "pythia run_13\n",
    "3\n",
    "0\n",
    "pythia run_14\n",
    "3\n",
    "0\n",
    "pythia run_15\n",
    "3\n",
    "0\n",
    "pythia run_16\n",
    "3\n",
    "0\n",
    "pythia run_17\n",
    "3\n",
    "0\n",
    "pythia run_18\n",
    "3\n",
    "0\n",
    "pythia run_19\n",
    "3\n",
    "0\n",
    "pythia run_20\n",
    "3\n",
    "0\n"
   ]
  },
  {
   "cell_type": "code",
   "execution_count": null,
   "metadata": {
    "collapsed": true
   },
   "outputs": [],
   "source": [
    "# %load studies/IDM/Task_Asana/TemplateRunPythiaDelphes_all.dat\n",
    "pythia run_01 \n",
    "3 \n",
    "0 \n",
    "pythia run_02 \n",
    "3 \n",
    "0 \n",
    "pythia run_03 \n",
    "3 \n",
    "0 \n",
    "pythia run_04 \n",
    "3 \n",
    "0 \n",
    "pythia run_05 \n",
    "3 \n",
    "0 \n",
    "pythia run_06 \n",
    "3 \n",
    "0 \n"
   ]
  },
  {
   "cell_type": "code",
   "execution_count": 22,
   "metadata": {
    "collapsed": true
   },
   "outputs": [],
   "source": [
    "run?"
   ]
  },
  {
   "cell_type": "markdown",
   "metadata": {},
   "source": [
    "## Trash area"
   ]
  },
  {
   "cell_type": "markdown",
   "metadata": {},
   "source": [
    "Temporal area where preliminary approaches are tried for."
   ]
  }
 ],
 "metadata": {
  "kernelspec": {
   "display_name": "Python 3",
   "language": "python",
   "name": "python3"
  },
  "language_info": {
   "codemirror_mode": {
    "name": "ipython",
    "version": 3
   },
   "file_extension": ".py",
   "mimetype": "text/x-python",
   "name": "python",
   "nbconvert_exporter": "python",
   "pygments_lexer": "ipython3",
   "version": "3.4.2"
  },
  "latex_envs": {
   "LaTeX_envs_menu_present": true,
   "bibliofile": "biblio.bib",
   "cite_by": "apalike",
   "current_citInitial": 1,
   "eqLabelWithNumbers": true,
   "eqNumInitial": 1,
   "labels_anchors": false,
   "latex_user_defs": false,
   "report_style_numbering": false,
   "user_envs_cfg": false
  }
 },
 "nbformat": 4,
 "nbformat_minor": 2
}
