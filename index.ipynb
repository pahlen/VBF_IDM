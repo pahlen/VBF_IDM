{
 "cells": [
  {
   "cell_type": "markdown",
   "metadata": {},
   "source": [
    "# Vector boson fusion in IDM"
   ]
  },
  {
   "cell_type": "markdown",
   "metadata": {},
   "source": [
    "The final notebook is [Significance_countours.ipynb](./Significance_countours.ipynb) which is based on [Sensitivity_fit.ipynb](Sensitivity_fit.ipynb) which is based on [Sensitivity_plots.ipynb](Sensitivity_plots.ipynb) by JD"
   ]
  },
  {
   "cell_type": "markdown",
   "metadata": {},
   "source": [
    "### Initialization"
   ]
  },
  {
   "cell_type": "code",
   "execution_count": 1,
   "metadata": {},
   "outputs": [
    {
     "name": "stdout",
     "output_type": "stream",
     "text": [
      "Populating the interactive namespace from numpy and matplotlib\n"
     ]
    }
   ],
   "source": [
    "%pylab inline"
   ]
  },
  {
   "cell_type": "code",
   "execution_count": 2,
   "metadata": {
    "collapsed": true
   },
   "outputs": [],
   "source": [
    "import sys\n",
    "import subprocess\n",
    "import numpy as np\n",
    "import pandas as pd\n",
    "##pip3 install pyslha\n",
    "#import pyslha # not longer required\n",
    "import tempfile\n",
    "import os\n",
    "def subprocess_line_by_line(*args,TRUST_ERRORS=True,**kwargs):\n",
    "    '''\n",
    "    Subprocess output line by line. Stop of error found when TRUST_ERRORS=True, and simply\n",
    "    report wait method otherwise.\n",
    "    \n",
    "    The arguments are the same as for the Popen constructor.\n",
    "    \n",
    "    WARNING: Works only in Python 3\n",
    "    \n",
    "    See: https://stackoverflow.com/a/28319191/2268280 \n",
    "    and: https://stackoverflow.com/a/17698359/2268280\n",
    "    '''\n",
    "    \n",
    "    if not TRUST_ERRORS:\n",
    "        kwargs['stderr']=subprocess.PIPE\n",
    "        \n",
    "    kwargs['stdout']=subprocess.PIPE\n",
    "    kwargs['bufsize']=1\n",
    "    kwargs['universal_newlines']=True\n",
    "    s=subprocess.Popen(*args,**kwargs)\n",
    "    with s as p:\n",
    "        for line in p.stdout:\n",
    "            print(line, end='') # process line here\n",
    "    \n",
    "    if TRUST_ERRORS:\n",
    "        if p.returncode != 0:\n",
    "            raise subprocess.CalledProcessError(p.returncode, p.args)\n",
    "    else:\n",
    "        return s.wait()"
   ]
  },
  {
   "cell_type": "markdown",
   "metadata": {},
   "source": [
    "### Input variables"
   ]
  },
  {
   "cell_type": "code",
   "execution_count": 96,
   "metadata": {
    "collapsed": true
   },
   "outputs": [],
   "source": [
    "thisroot='/home/restrepo/prog/ROOT/root/bin/thisroot.sh'\n",
    "thisroot='/opt/root5/bin/thisroot.sh'\n",
    "MHc=750\n",
    "MH0=230\n",
    "MADGRAPH='madgraph'\n",
    "run_dir='Task_Asana'\n",
    "work_dir='studies/IDM/'+run_dir\n",
    "work_script='BP_'+str(int(MHc))+'_A_'+str(int(MH0))+'.txt'\n",
    "LHA_input_file='MadGraph_cards/benchmarks/param_card_template.dat'\n"
   ]
  },
  {
   "cell_type": "markdown",
   "metadata": {},
   "source": [
    "### Running flags"
   ]
  },
  {
   "cell_type": "code",
   "execution_count": null,
   "metadata": {
    "collapsed": true
   },
   "outputs": [],
   "source": [
    "CLONE_GIT_REPO=False #WARNING: Try to overwrite current contents!\n",
    "INSTALL=True # If True check full installation\n",
    "TEST=False #take a long time\n",
    "if not INSTALL:\n",
    "    CLONE_GIT_REPO=False"
   ]
  },
  {
   "cell_type": "markdown",
   "metadata": {},
   "source": [
    "## Install root 5"
   ]
  },
  {
   "cell_type": "markdown",
   "metadata": {},
   "source": [
    "### Prerequisites \n",
    "```bash\n",
    "apt-get install cmake git dpkg-dev make g++ gcc binutils libx11-dev libxpm-dev \\\n",
    "libxft-dev libxext-dev gfortran libssl-dev libpcre3-dev \\\n",
    "xlibmesa-glu-dev libglew1.5-dev libftgl-dev \\\n",
    "libmysqlclient-dev libfftw3-dev libcfitsio-dev \\\n",
    "graphviz-dev libavahi-compat-libdnssd-dev \\\n",
    "libldap2-dev python-dev libxml2-dev libkrb5-dev \\\n",
    "libgsl0-dev libqt4-dev r-base r-base-dev python-pip\n",
    "```"
   ]
  },
  {
   "cell_type": "markdown",
   "metadata": {},
   "source": [
    "Install ROOT 5 in some `PATH`\n",
    "```bash\n",
    "git clone http://root.cern.ch/git/root.git\n",
    "cd root\n",
    "git checkout v5-34-00-patches\n",
    "./configure\n",
    "make\n",
    "\n",
    "```\n",
    "Add to your `.bashrc`\n",
    "```bash\n",
    "source PATH/root/bin/thisroot.sh\n",
    "```"
   ]
  },
  {
   "cell_type": "code",
   "execution_count": 23,
   "metadata": {
    "collapsed": true
   },
   "outputs": [],
   "source": [
    "f=open('kk.sh','w')\n",
    "f.write('source '+thisroot+'\\n')\n",
    "f.write('which root\\n')\n",
    "f.close()\n",
    "\n",
    "if not subprocess.Popen('bash kk.sh'.split(),\n",
    "            stdout=subprocess.PIPE,stderr=subprocess.PIPE).communicate()[0]:\n",
    "    sys.exit('INSTALL ROOT: see instrucctions in notebook')"
   ]
  },
  {
   "cell_type": "markdown",
   "metadata": {},
   "source": [
    "# Development of module to calculate one specific point"
   ]
  },
  {
   "cell_type": "markdown",
   "metadata": {
    "collapsed": true
   },
   "source": [
    "If `CLONE_GIT_REPO=False`, it is assumed that you did the clone as:\n",
    "```bash\n",
    "git clone  --recursive git@github.com:restrepo/VBF_IDM.git\n",
    "```"
   ]
  },
  {
   "cell_type": "code",
   "execution_count": 166,
   "metadata": {
    "collapsed": true
   },
   "outputs": [],
   "source": [
    "if CLONE_GIT_REPO:  \n",
    "    REPO='VBF_IDM'\n",
    "    REPO_url='git@github.com:restrepo'\n",
    "    work_dir='tmp'#'.' #WARNING: Try to overwirte contents\n",
    "    if os.path.exists(work_dir+'index.ipynb'):\n",
    "        sys.exit('ERROR: Repo files already exists. Check work_dir')\n",
    "    if not os.path.isdir(work_dir):\n",
    "        s=subprocess.Popen(['mkdir','-p',work_dir],stdout=subprocess.PIPE,stderr=subprocess.PIPE).wait()\n",
    "\n",
    "    td=tempfile.mkdtemp()\n",
    "    s=subprocess.Popen(('git clone  --recursive '+REPO_url+'/'+REPO+'.git').split(),cwd=td,\n",
    "                 stdout=subprocess.PIPE,stderr=subprocess.PIPE).communicate()\n",
    "\n",
    "    s=subprocess.Popen('mv '+td+'/'+REPO+'/*  '+work_dir,shell=True,\n",
    "                   stdout=subprocess.PIPE,stderr=subprocess.PIPE).communicate()\n",
    "\n",
    "    s=subprocess.Popen('mv '+td+'/'+REPO+'/.* '+work_dir,shell=True,\n",
    "                   stdout=subprocess.PIPE,stderr=subprocess.PIPE).communicate()\n",
    "\n",
    "    os.rmdir(td+'/'+REPO)\n",
    "    os.rmdir(td)"
   ]
  },
  {
   "cell_type": "code",
   "execution_count": 31,
   "metadata": {
    "collapsed": true
   },
   "outputs": [],
   "source": [
    "if INSTALL:\n",
    "    s=subprocess.Popen('git checkout -b v2.3.3'.split(),cwd='madgraph',\n",
    "                      stdout=subprocess.PIPE,stderr=subprocess.PIPE).communicate()\n",
    "    if 'Switched' not in s[1].decode('utf-8'):\n",
    "        sys.exit('Submodule problems')"
   ]
  },
  {
   "cell_type": "markdown",
   "metadata": {},
   "source": [
    "subprocess does not use .bashrc"
   ]
  },
  {
   "cell_type": "code",
   "execution_count": 125,
   "metadata": {
    "collapsed": true
   },
   "outputs": [],
   "source": [
    "f=open('madgraph/kk.sh','w')\n",
    "f.write('source '+thisroot+'\\n')\n",
    "f.write('./bin/mg5_aMC install.dat\\n')\n",
    "f.close()"
   ]
  },
  {
   "cell_type": "code",
   "execution_count": 126,
   "metadata": {
    "collapsed": true
   },
   "outputs": [],
   "source": [
    "if INSTALL:\n",
    "    s=subprocess.call('bash kk.sh'.split(),cwd='madgraph', stdout=open('kk','w'),stderr=open('kkk','w') )"
   ]
  },
  {
   "cell_type": "code",
   "execution_count": null,
   "metadata": {
    "collapsed": true
   },
   "outputs": [],
   "source": [
    "if TEST:\n",
    "    s=subprocess.Popen('./test.sh'.split(), cwd='test',\n",
    "            stdout=subprocess.PIPE,stderr=subprocess.PIPE).communicate()"
   ]
  },
  {
   "cell_type": "markdown",
   "metadata": {},
   "source": [
    "s[0].decode('utf-8')"
   ]
  },
  {
   "cell_type": "markdown",
   "metadata": {},
   "source": [
    "### Create MadGraph script with processes"
   ]
  },
  {
   "cell_type": "code",
   "execution_count": 4,
   "metadata": {
    "collapsed": true
   },
   "outputs": [],
   "source": [
    "LambdasL=[0.01,0.02,0.05,0.07,0.1,0.15,0.2,0.25,0.3,0.35,0.4,0.45,0.5,0.55,0.6,1.0,3.0,5.0,7.0,10.0]"
   ]
  },
  {
   "cell_type": "code",
   "execution_count": 6,
   "metadata": {
    "collapsed": true
   },
   "outputs": [],
   "source": [
    "MH0s=np.array([70,75,80,85,90,110,130,150,170,190,210,220,240])"
   ]
  },
  {
   "cell_type": "code",
   "execution_count": 7,
   "metadata": {},
   "outputs": [
    {
     "data": {
      "text/plain": [
       "1"
      ]
     },
     "execution_count": 7,
     "metadata": {},
     "output_type": "execute_result"
    }
   ],
   "source": [
    "len(LambdasL)"
   ]
  },
  {
   "cell_type": "markdown",
   "metadata": {},
   "source": [
    "```bash\n",
    "rsiii@gfif:~/IDM_VBF/Samples/mh0_vs_lal/scan$ ls delphes_events_[0-9][0-9]_*.root | more\n",
    "delphes_events_70_001_.root\n",
    "delphes_events_70_002_.root\n",
    "delphes_events_70_003_.root\n",
    "...\n",
    "...\n",
    "delphes_events_90_018_.root\n",
    "delphes_events_90_019_.root\n",
    "delphes_events_90_020_.root\n",
    "```"
   ]
  },
  {
   "cell_type": "markdown",
   "metadata": {},
   "source": [
    "```bash\n",
    "rsiii@gfif:~/IDM_VBF/Samples/mh0_vs_lal/scan$ ls delphes_events_[0-9][0-9][0-9]_*.root | more\n",
    "delphes_events_110_001_.root\n",
    "delphes_events_110_002_.root\n",
    "delphes_events_110_003_.root\n",
    "...\n",
    "...\n",
    "delphes_events_240_018_.root\n",
    "delphes_events_240_019_.root\n",
    "delphes_events_240_020_.root\n",
    "```"
   ]
  },
  {
   "cell_type": "markdown",
   "metadata": {},
   "source": [
    "cat readme.txt \n",
    "date 23/01/2017\n",
    "Delphes output (.root) for the set the points contained in data_mh0_vs_x.dat\n",
    "\n",
    "The data is organized as follows (in ascending order in lambda_L[lal] ):\n",
    "\n",
    "#lal #mh0[GeV] #xs[fb]   #Delphes name\n",
    "0.3 63.75 200        --> delphes_events_2.root\n",
    "0.4 64.80 200        --> delphes_events_3.root \n",
    "0.5 66.32 200        --> delphes_events_4.root\n",
    "0.6 68.05 200        --> delphes_events_5.root \n",
    "0.7 70.04 200        --> delphes_events_6.root\n",
    ".   .     .          --> \n",
    ".   .     .          --> \n",
    ".   .     .          -->\n",
    "\n",
    "The cross-section (xs) for the processes p p > h0 h0 j j\n",
    "for all the set of points is around 200 fb. [Except for\n",
    "the first point, with lal=0.3,  where the cross-section turns out to be 179 fb.]"
   ]
  },
  {
   "cell_type": "code",
   "execution_count": 172,
   "metadata": {
    "collapsed": true
   },
   "outputs": [],
   "source": [
    "df=pd.read_csv('Output_data.csv')"
   ]
  },
  {
   "cell_type": "code",
   "execution_count": 6,
   "metadata": {
    "collapsed": true
   },
   "outputs": [],
   "source": [
    "lha=pyslha.readSLHAFile('MadGraph_cards/benchmarks/param_card_template.dat')"
   ]
  },
  {
   "cell_type": "code",
   "execution_count": 16,
   "metadata": {
    "collapsed": true
   },
   "outputs": [],
   "source": [
    "#'MadGraph_cards/benchmarks/param_card_BP'''+str(int(MHc))+'_'+str(int(MH0))+'.dat'\n",
    "#lha.blocks['FRBLOCK'].entries[13]=MH0\n",
    "#lha.blocks['FRBLOCK'].entries[14]=MHc\n",
    "#lha.blocks['FRBLOCK'].entries[15]=MHc\n",
    "#pyslha.writeSLHAFile(LHA_input_file,lha)"
   ]
  },
  {
   "cell_type": "code",
   "execution_count": 8,
   "metadata": {
    "collapsed": true
   },
   "outputs": [],
   "source": [
    "s=subprocess.Popen(['mkdir','-p',work_dir],\n",
    "                 stdout=subprocess.PIPE, stderr=subprocess.PIPE).communicate()"
   ]
  },
  {
   "cell_type": "code",
   "execution_count": 20,
   "metadata": {
    "collapsed": true
   },
   "outputs": [],
   "source": [
    "def preamble(MHc=750,MH0=110):\n",
    "    return '''import model InertDoublet_UFO\n",
    "define p = g u c d s b u~ c~ d~ s~ b~\n",
    "define j = p  \n",
    "define l+ = e+ mu+ \n",
    "define l- = e- mu- \n",
    "define vl = ve vm vt \n",
    "define vl~ = ve~ vm~ vt~\n",
    "\n",
    "generate p p > h2 h2 j j @0\n",
    "\n",
    "output ../studies/IDM/BP_'''+str(int(MHc))+'_'+str(int(MH0))+'''_vs_lambdaL\n",
    "\n",
    "'''\n",
    "\n",
    "def lamL_loop(LHA_input_file,MHc=750,MH0=110,lamL=0.01):\n",
    "    return '''launch ../studies/IDM/BP_'''+str(int(MHc))+'_'+str(int(MH0))+'''_vs_lambdaL\n",
    "0    \n",
    "../'''+LHA_input_file+'''\n",
    "../Cards/run_card.dat\n",
    "set wa0 auto\n",
    "set whch auto \n",
    "set lamL '''+str(lamL)+'''\n",
    "set mmh0 '''+str(MH0)+'''\n",
    "set mma0 '''+str(MHc)+'''\n",
    "set mmhch '''+str(MHc)+'''\n",
    "0\n",
    "\n",
    "''' \n",
    "\n",
    "\n",
    "def closing(MHc=750,MH0=110):\n",
    "    return '''launch ../studies/IDM/BP_'''+str(int(MHc))+'_'+str(int(MH0))+'''_vs_lambdaL -i\n",
    "print_results --path=./result_BP_'''+str(int(MHc))+'_'+str(int(MH0))+'''_vs_lamdaL_mh0_110.txt --format=short\n",
    "\n",
    "\n",
    "done\n",
    "'''"
   ]
  },
  {
   "cell_type": "code",
   "execution_count": 171,
   "metadata": {},
   "outputs": [
    {
     "data": {
      "text/plain": [
       "'./result_BP_750_250_vs_lamdaL_mh0_110.txt'"
      ]
     },
     "execution_count": 171,
     "metadata": {},
     "output_type": "execute_result"
    }
   ],
   "source": [
    "cp './result_BP_'+str(int(MHc))+'_'+str(int(MH0))+'_vs_lamdaL_mh0_110.txt'"
   ]
  },
  {
   "cell_type": "code",
   "execution_count": 23,
   "metadata": {
    "collapsed": true
   },
   "outputs": [],
   "source": [
    "f=open(work_dir+'/'+work_script,'w')\n",
    "f.write( preamble(MHc,MH0) )\n",
    "for lamL in LambdasL:\n",
    "    f.write( lamL_loop(LHA_input_file,MHc,MH0,lamL=lamL) )\n",
    "f.write( closing(MHc,MH0) )\n",
    "f.close()"
   ]
  },
  {
   "cell_type": "markdown",
   "metadata": {},
   "source": [
    "```bash\n",
    "# pip3 install subprocess.run && #pip2 install subprocess.run \n",
    "```"
   ]
  },
  {
   "cell_type": "code",
   "execution_count": 19,
   "metadata": {
    "collapsed": true
   },
   "outputs": [],
   "source": [
    "f=open(MADGRAPH+'/kk.sh','w')\n",
    "f.write('source '+thisroot+'\\n')\n",
    "f.write('./bin/mg5_aMC ../'+work_dir+'/'+work_script+'\\n')\n",
    "f.close()"
   ]
  },
  {
   "cell_type": "code",
   "execution_count": 151,
   "metadata": {
    "collapsed": true
   },
   "outputs": [],
   "source": [
    "s=subprocess.Popen( 'bash kk.sh'.split(), cwd=MADGRAPH,\n",
    "                                stdout=subprocess.PIPE, stderr=subprocess.PIPE)"
   ]
  },
  {
   "cell_type": "code",
   "execution_count": null,
   "metadata": {
    "collapsed": true
   },
   "outputs": [],
   "source": [
    "s.wait()\n",
    "(MGOUT,MGERR)=s.communicate()"
   ]
  },
  {
   "cell_type": "markdown",
   "metadata": {
    "collapsed": true
   },
   "source": [
    "%%bash\n",
    "cd madgraph/\n",
    "./bin/mg5_aMC ../studies/IDM/Task_Asana/BP_750_A_110.txt\n",
    "cd .."
   ]
  },
  {
   "cell_type": "markdown",
   "metadata": {},
   "source": [
    "### Prepare madevent script"
   ]
  },
  {
   "cell_type": "code",
   "execution_count": 22,
   "metadata": {
    "collapsed": true
   },
   "outputs": [],
   "source": [
    "pythia_script='TemplateRunPythiaDelphes_all.dat'\n",
    "if len(LambdasL)>99:\n",
    "    sys.exit('ERROR: UPDATE FORMAT FOR > 99 runs')\n",
    "f=open(work_dir+'/'+pythia_script,'w')\n",
    "for r in range(1,len(LambdasL)+1):\n",
    "    f.write('pythia run_%02d\\n' %r)\n",
    "    f.write('3\\n')\n",
    "    f.write('0\\n')\n",
    "f.close()"
   ]
  },
  {
   "cell_type": "code",
   "execution_count": 23,
   "metadata": {
    "collapsed": true
   },
   "outputs": [],
   "source": [
    "output_dir='studies/IDM/BP_'+str(int(MHc))+'_'+str(int(MH0))+'_vs_lambdaL'"
   ]
  },
  {
   "cell_type": "code",
   "execution_count": 24,
   "metadata": {
    "collapsed": true
   },
   "outputs": [],
   "source": [
    "f=open(output_dir+'/kk.sh','w')\n",
    "f.write('source '+thisroot+'\\n')\n",
    "f.write('./bin/madevent ../'+run_dir+'/'+pythia_script+'\\n')\n",
    "f.close()"
   ]
  },
  {
   "cell_type": "code",
   "execution_count": 18,
   "metadata": {
    "collapsed": true
   },
   "outputs": [],
   "source": [
    "s=subprocess.Popen('bash kk.sh'.split(), cwd=output_dir,\n",
    "                                stdout=subprocess.PIPE, stderr=subprocess.PIPE)"
   ]
  },
  {
   "cell_type": "code",
   "execution_count": 19,
   "metadata": {
    "collapsed": true
   },
   "outputs": [],
   "source": [
    "s.wait()\n",
    "(PHOUT,PHERR)=s.communicate()"
   ]
  },
  {
   "cell_type": "markdown",
   "metadata": {},
   "source": [
    "print(PHOUT.decode('utf-8'))"
   ]
  },
  {
   "cell_type": "markdown",
   "metadata": {},
   "source": [
    "### Get results"
   ]
  },
  {
   "cell_type": "code",
   "execution_count": 33,
   "metadata": {
    "collapsed": true
   },
   "outputs": [],
   "source": [
    "full_output='output'\n",
    "s=subprocess.Popen(['mkdir', '-p',full_output]).wait()\n",
    "\n",
    "#if 'xs_'+str(int(MH0)) not in df.columns.values:\n",
    "if True:\n",
    "    for r in range(1,len(LambdasL)+1):\n",
    "        nrun='%02d' %r\n",
    "        nrun3='%03d' %r\n",
    "        s=subprocess.Popen(['cp',output_dir+'/Events/run_'+nrun+'/tag_1_delphes_events.root', \n",
    "                            full_output+'/delphes_events_'+str(int(MH0))+'_'+nrun3+'_.root'],\n",
    "                             stdout=subprocess.PIPE, stderr=subprocess.PIPE)\n",
    "        if s.wait()>0:\n",
    "            sys.exit('Files not found')"
   ]
  },
  {
   "cell_type": "markdown",
   "metadata": {},
   "source": [
    "ls studies/IDM/BP_750_110_vs_lambdaL/Events/run_07/"
   ]
  }
 ],
 "metadata": {
  "kernelspec": {
   "display_name": "Python 3",
   "language": "python",
   "name": "python3"
  },
  "language_info": {
   "codemirror_mode": {
    "name": "ipython",
    "version": 3
   },
   "file_extension": ".py",
   "mimetype": "text/x-python",
   "name": "python",
   "nbconvert_exporter": "python",
   "pygments_lexer": "ipython3",
   "version": "3.4.2"
  },
  "latex_envs": {
   "LaTeX_envs_menu_present": true,
   "bibliofile": "biblio.bib",
   "cite_by": "apalike",
   "current_citInitial": 1,
   "eqLabelWithNumbers": true,
   "eqNumInitial": 1,
   "labels_anchors": false,
   "latex_user_defs": false,
   "report_style_numbering": false,
   "user_envs_cfg": false
  },
  "toc": {
   "colors": {
    "hover_highlight": "#DAA520",
    "running_highlight": "#FF0000",
    "selected_highlight": "#FFD700"
   },
   "moveMenuLeft": true,
   "nav_menu": {
    "height": "225px",
    "width": "252px"
   },
   "navigate_menu": true,
   "number_sections": true,
   "sideBar": true,
   "threshold": 4,
   "toc_cell": false,
   "toc_section_display": "block",
   "toc_window_display": false
  }
 },
 "nbformat": 4,
 "nbformat_minor": 2
}
