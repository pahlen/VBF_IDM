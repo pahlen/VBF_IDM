{
 "cells": [
  {
   "cell_type": "markdown",
   "metadata": {},
   "source": [
    "# Vector boson fusion in IDM"
   ]
  },
  {
   "cell_type": "markdown",
   "metadata": {},
   "source": [
    "The final notebook is [Significance_countours.ipynb](./Significance_countours.ipynb) which is based on [Sensitivity_fit.ipynb](Sensitivity_fit.ipynb) which is based on [Sensitivity_plots.ipynb](Sensitivity_plots.ipynb) by JD"
   ]
  },
  {
   "cell_type": "code",
   "execution_count": 1,
   "metadata": {},
   "outputs": [
    {
     "name": "stdout",
     "output_type": "stream",
     "text": [
      "Populating the interactive namespace from numpy and matplotlib\n"
     ]
    }
   ],
   "source": [
    "%pylab inline"
   ]
  },
  {
   "cell_type": "code",
   "execution_count": 56,
   "metadata": {
    "collapsed": true
   },
   "outputs": [],
   "source": [
    "import sys\n",
    "from subprocess import run"
   ]
  },
  {
   "cell_type": "markdown",
   "metadata": {},
   "source": [
    "## Install root 5"
   ]
  },
  {
   "cell_type": "markdown",
   "metadata": {},
   "source": [
    "### Prerequisites \n",
    "```bash\n",
    "apt-get install cmake git dpkg-dev make g++ gcc binutils libx11-dev libxpm-dev \\\n",
    "libxft-dev libxext-dev gfortran libssl-dev libpcre3-dev \\\n",
    "xlibmesa-glu-dev libglew1.5-dev libftgl-dev \\\n",
    "libmysqlclient-dev libfftw3-dev libcfitsio-dev \\\n",
    "graphviz-dev libavahi-compat-libdnssd-dev \\\n",
    "libldap2-dev python-dev libxml2-dev libkrb5-dev \\\n",
    "libgsl0-dev libqt4-dev r-base r-base-dev python-pip\n",
    "```"
   ]
  },
  {
   "cell_type": "markdown",
   "metadata": {},
   "source": [
    "Install ROOT 5 in some `PATH`\n",
    "```bash\n",
    "git clone http://root.cern.ch/git/root.git\n",
    "cd root\n",
    "git checkout v5-34-00-patches\n",
    "./configure\n",
    "make\n",
    "\n",
    "```\n",
    "Add to your `.bashrc`\n",
    "```bash\n",
    "source PATH/root/bin/thisroot.sh\n",
    "```"
   ]
  },
  {
   "cell_type": "markdown",
   "metadata": {},
   "source": [
    "# Development of module to calculate one specific point"
   ]
  },
  {
   "cell_type": "code",
   "execution_count": 3,
   "metadata": {
    "collapsed": true
   },
   "outputs": [],
   "source": [
    "%%bash\n",
    "#git clone  --recursive git@gitlab.com:restrepo/VBF_IDM.git"
   ]
  },
  {
   "cell_type": "code",
   "execution_count": 2,
   "metadata": {},
   "outputs": [
    {
     "name": "stderr",
     "output_type": "stream",
     "text": [
      "Switched to a new branch 'v2.3.3'\n"
     ]
    }
   ],
   "source": [
    "%%bash\n",
    "cd madgraph/\n",
    "git checkout -b v2.3.3\n",
    "./bin/mg5_aMC install.dat > /tmp/kk 2> /tmp/kkk\n",
    "cd .."
   ]
  },
  {
   "cell_type": "code",
   "execution_count": 3,
   "metadata": {
    "collapsed": true
   },
   "outputs": [],
   "source": [
    "LambdasL=[0.01,0.02,0.05,0.07,0.1,0.15,0.2,0.25,0.3,0.35,0.4,0.45,0.5,0.55,0.6,1.0,3.0,5.0,7.0,10.0]"
   ]
  },
  {
   "cell_type": "code",
   "execution_count": 26,
   "metadata": {},
   "outputs": [
    {
     "data": {
      "text/plain": [
       "20"
      ]
     },
     "execution_count": 26,
     "metadata": {},
     "output_type": "execute_result"
    }
   ],
   "source": []
  },
  {
   "cell_type": "code",
   "execution_count": 4,
   "metadata": {
    "collapsed": true
   },
   "outputs": [],
   "source": [
    "def preamble(MHc=750,MH0=110):\n",
    "    return '''import model InertDoublet_UFO\n",
    "define p = g u c d s b u~ c~ d~ s~ b~\n",
    "define j = p  \n",
    "define l+ = e+ mu+ \n",
    "define l- = e- mu- \n",
    "define vl = ve vm vt \n",
    "define vl~ = ve~ vm~ vt~\n",
    "\n",
    "generate p p > h2 h2 j j @0\n",
    "\n",
    "output ../studies/IDM/BP_'''+str(int(MHc))+'_'+str(int(MH0))+'''_vs_lambdaL\n",
    "\n",
    "'''\n",
    "\n",
    "def lamL_loop(MHc=750,MH0=110,lamL=0.01):\n",
    "    return '''launch ../studies/IDM/BP_'''+str(int(MHc))+'_'+str(int(MH0))+'''_vs_lambdaL\n",
    "../MadGraph_cards/benchmarks/param_card_BP'''+str(int(MHc))+'_'+str(int(MH0))+'''.dat\n",
    "../Cards/run_card.dat\n",
    "set wa0 auto\n",
    "set whch auto \n",
    "set lamL '''+str(lamL)+'''\n",
    "\n",
    "''' \n",
    "\n",
    "\n",
    "def closing(MHc=750,MH0=110):\n",
    "    return '''launch ../studies/IDM/BP_'''+str(int(MHc))+'_'+str(int(MH0))+'''_vs_lambdaL -i\n",
    "print_results --path=./result_BP_'''+str(int(MHc))+'_'+str(int(MH0))+'''_vs_lamdaL_mh0_110.txt --format=short\n",
    "\n",
    "done\n",
    "'''"
   ]
  },
  {
   "cell_type": "code",
   "execution_count": 8,
   "metadata": {},
   "outputs": [
    {
     "data": {
      "text/plain": [
       "''"
      ]
     },
     "execution_count": 8,
     "metadata": {},
     "output_type": "execute_result"
    }
   ],
   "source": [
    "run('mkdir -p studies/IDM/Task_Asana').stderr"
   ]
  },
  {
   "cell_type": "code",
   "execution_count": 14,
   "metadata": {
    "collapsed": true
   },
   "outputs": [],
   "source": [
    "MHc=750\n",
    "MH0=110\n",
    "f=open('studies/IDM/Task_Asana/BP_'+str(int(MHc))+'_A_'+str(int(MH0))+'.txt','w')\n",
    "f.write( preamble(MHc,MH0) )\n",
    "for lamL in LambdasL:\n",
    "    f.write( lamL_loop(MHc,MH0,lamL=lamL) )\n",
    "f.write( closing(MHc,MH0) )\n",
    "f.close()"
   ]
  },
  {
   "cell_type": "markdown",
   "metadata": {},
   "source": [
    "```bash\n",
    "# pip3 install subprocess.run && #pip2 install subprocess.run \n",
    "```"
   ]
  },
  {
   "cell_type": "code",
   "execution_count": 23,
   "metadata": {
    "collapsed": true
   },
   "outputs": [],
   "source": [
    "f=open('kk.sh','w')\n",
    "f.write('cd madgraph\\n./bin/mg5_aMC ../studies/IDM/Task_Asana/BP_'+str(int(MHc))+'_A_'+str(int(MH0))+'.txt > /tmp/kk' )\n",
    "f.close()"
   ]
  },
  {
   "cell_type": "code",
   "execution_count": null,
   "metadata": {
    "collapsed": true
   },
   "outputs": [],
   "source": [
    "run('bash kk.sh').stderr"
   ]
  },
  {
   "cell_type": "code",
   "execution_count": 4,
   "metadata": {
    "collapsed": true
   },
   "outputs": [],
   "source": [
    "%%bash\n",
    "cd madgraph/\n",
    "./bin/mg5_aMC ../studies/IDM/Task_Asana/BP_750_A_110.txt\n",
    "cd .."
   ]
  },
  {
   "cell_type": "code",
   "execution_count": 30,
   "metadata": {},
   "outputs": [
    {
     "data": {
      "text/plain": [
       "[1, 2, 3, 4, 5, 6, 7, 8, 9, 10, 11, 12, 13, 14, 15, 16, 17, 18, 19, 20]"
      ]
     },
     "execution_count": 30,
     "metadata": {},
     "output_type": "execute_result"
    }
   ],
   "source": [
    "list()"
   ]
  },
  {
   "cell_type": "code",
   "execution_count": 34,
   "metadata": {},
   "outputs": [
    {
     "name": "stdout",
     "output_type": "stream",
     "text": [
      "01\n"
     ]
    }
   ],
   "source": [
    "print(\"%02d\" % (1,))"
   ]
  },
  {
   "cell_type": "code",
   "execution_count": 35,
   "metadata": {
    "collapsed": true
   },
   "outputs": [],
   "source": []
  },
  {
   "cell_type": "code",
   "execution_count": 50,
   "metadata": {},
   "outputs": [],
   "source": [
    "if len(LambdasL)>99:\n",
    "    sys.exit('ERROR: UPDATE FORMAT FOR > 99 runs')\n",
    "f=open('studies/IDM/Task_Asana/TemplateRunPythiaDelphes_all.dat','w')\n",
    "for r in range(1,len(LambdasL)+1):\n",
    "    f.write('pythia run_%02d\\n' %r)\n",
    "    f.write('3\\n')\n",
    "    f.write('0\\n')\n",
    "f.close()"
   ]
  },
  {
   "cell_type": "code",
   "execution_count": 58,
   "metadata": {},
   "outputs": [],
   "source": [
    "f=open('kk.sh','w')\n",
    "f.write('cd studies/IDM/BP_'+str(int(MHc))+'_'+str(int(MH0))+'_vs_lambdaL\\n')\n",
    "f.write('./bin/madevent ../Task_Asana/TemplateRunPythiaDelphes_all.dat')\n",
    "f.close()"
   ]
  },
  {
   "cell_type": "code",
   "execution_count": 59,
   "metadata": {},
   "outputs": [
    {
     "data": {
      "text/plain": [
       "''"
      ]
     },
     "execution_count": 59,
     "metadata": {},
     "output_type": "execute_result"
    }
   ],
   "source": [
    "run('bash kk.sh').stderr"
   ]
  },
  {
   "cell_type": "code",
   "execution_count": null,
   "metadata": {},
   "outputs": [],
   "source": [
    "# %load studies/IDM/Task_Asana/TemplateRunPythiaDelphes_all.dat\n",
    "pythia run_01\n",
    "3\n",
    "0\n",
    "pythia run_02\n",
    "3\n",
    "0\n",
    "pythia run_03\n",
    "3\n",
    "0\n",
    "pythia run_04\n",
    "3\n",
    "0\n",
    "pythia run_05\n",
    "3\n",
    "0\n",
    "pythia run_06\n",
    "3\n",
    "0\n",
    "pythia run_07\n",
    "3\n",
    "0\n",
    "pythia run_08\n",
    "3\n",
    "0\n",
    "pythia run_09\n",
    "3\n",
    "0\n",
    "pythia run_10\n",
    "3\n",
    "0\n",
    "pythia run_11\n",
    "3\n",
    "0\n",
    "pythia run_12\n",
    "3\n",
    "0\n",
    "pythia run_13\n",
    "3\n",
    "0\n",
    "pythia run_14\n",
    "3\n",
    "0\n",
    "pythia run_15\n",
    "3\n",
    "0\n",
    "pythia run_16\n",
    "3\n",
    "0\n",
    "pythia run_17\n",
    "3\n",
    "0\n",
    "pythia run_18\n",
    "3\n",
    "0\n",
    "pythia run_19\n",
    "3\n",
    "0\n",
    "pythia run_20\n",
    "3\n",
    "0\n"
   ]
  },
  {
   "cell_type": "code",
   "execution_count": null,
   "metadata": {
    "collapsed": true
   },
   "outputs": [],
   "source": [
    "# %load studies/IDM/Task_Asana/TemplateRunPythiaDelphes_all.dat\n",
    "pythia run_01 \n",
    "3 \n",
    "0 \n",
    "pythia run_02 \n",
    "3 \n",
    "0 \n",
    "pythia run_03 \n",
    "3 \n",
    "0 \n",
    "pythia run_04 \n",
    "3 \n",
    "0 \n",
    "pythia run_05 \n",
    "3 \n",
    "0 \n",
    "pythia run_06 \n",
    "3 \n",
    "0 \n"
   ]
  },
  {
   "cell_type": "code",
   "execution_count": 22,
   "metadata": {
    "collapsed": true
   },
   "outputs": [],
   "source": [
    "run?"
   ]
  },
  {
   "cell_type": "markdown",
   "metadata": {},
   "source": [
    "## Trash area"
   ]
  },
  {
   "cell_type": "markdown",
   "metadata": {},
   "source": [
    "Temporal area where preliminary approaches are tried for."
   ]
  }
 ],
 "metadata": {
  "kernelspec": {
   "display_name": "Python 3",
   "language": "python",
   "name": "python3"
  },
  "language_info": {
   "codemirror_mode": {
    "name": "ipython",
    "version": 3
   },
   "file_extension": ".py",
   "mimetype": "text/x-python",
   "name": "python",
   "nbconvert_exporter": "python",
   "pygments_lexer": "ipython3",
   "version": "3.4.2"
  },
  "latex_envs": {
   "LaTeX_envs_menu_present": true,
   "bibliofile": "biblio.bib",
   "cite_by": "apalike",
   "current_citInitial": 1,
   "eqLabelWithNumbers": true,
   "eqNumInitial": 1,
   "labels_anchors": false,
   "latex_user_defs": false,
   "report_style_numbering": false,
   "user_envs_cfg": false
  }
 },
 "nbformat": 4,
 "nbformat_minor": 2
}
