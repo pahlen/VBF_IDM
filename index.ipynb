{
 "cells": [
  {
   "cell_type": "markdown",
   "metadata": {},
   "source": [
    "# Vector boson fusion in IDM"
   ]
  },
  {
   "cell_type": "markdown",
   "metadata": {},
   "source": [
    "The final notebook is [Significance_countours.ipynb](./Significance_countours.ipynb) which is based on [Sensitivity_fit.ipynb](Sensitivity_fit.ipynb) which is based on [Sensitivity_plots.ipynb](Sensitivity_plots.ipynb) by JD"
   ]
  },
  {
   "cell_type": "markdown",
   "metadata": {},
   "source": [
    "### Initialization"
   ]
  },
  {
   "cell_type": "code",
   "execution_count": 1,
   "metadata": {},
   "outputs": [
    {
     "name": "stdout",
     "output_type": "stream",
     "text": [
      "Populating the interactive namespace from numpy and matplotlib\n"
     ]
    }
   ],
   "source": [
    "%pylab inline"
   ]
  },
  {
   "cell_type": "code",
   "execution_count": 2,
   "metadata": {
    "collapsed": true
   },
   "outputs": [],
   "source": [
    "import sys\n",
    "#from subprocess import run\n",
    "import subprocess\n",
    "import numpy as np\n",
    "import pandas as pd\n",
    "import pyslha"
   ]
  },
  {
   "cell_type": "markdown",
   "metadata": {
    "heading_collapsed": true
   },
   "source": [
    "## Install root 5"
   ]
  },
  {
   "cell_type": "markdown",
   "metadata": {
    "hidden": true
   },
   "source": [
    "### Prerequisites \n",
    "```bash\n",
    "apt-get install cmake git dpkg-dev make g++ gcc binutils libx11-dev libxpm-dev \\\n",
    "libxft-dev libxext-dev gfortran libssl-dev libpcre3-dev \\\n",
    "xlibmesa-glu-dev libglew1.5-dev libftgl-dev \\\n",
    "libmysqlclient-dev libfftw3-dev libcfitsio-dev \\\n",
    "graphviz-dev libavahi-compat-libdnssd-dev \\\n",
    "libldap2-dev python-dev libxml2-dev libkrb5-dev \\\n",
    "libgsl0-dev libqt4-dev r-base r-base-dev python-pip\n",
    "```"
   ]
  },
  {
   "cell_type": "markdown",
   "metadata": {
    "hidden": true
   },
   "source": [
    "Install ROOT 5 in some `PATH`\n",
    "```bash\n",
    "git clone http://root.cern.ch/git/root.git\n",
    "cd root\n",
    "git checkout v5-34-00-patches\n",
    "./configure\n",
    "make\n",
    "\n",
    "```\n",
    "Add to your `.bashrc`\n",
    "```bash\n",
    "source PATH/root/bin/thisroot.sh\n",
    "```"
   ]
  },
  {
   "cell_type": "markdown",
   "metadata": {},
   "source": [
    "# Development of module to calculate one specific point"
   ]
  },
  {
   "cell_type": "code",
   "execution_count": 3,
   "metadata": {
    "collapsed": true
   },
   "outputs": [],
   "source": [
    "%%bash\n",
    "#git clone  --recursive git@gitlab.com:restrepo/VBF_IDM.git"
   ]
  },
  {
   "cell_type": "code",
   "execution_count": 2,
   "metadata": {},
   "outputs": [
    {
     "name": "stderr",
     "output_type": "stream",
     "text": [
      "Switched to a new branch 'v2.3.3'\n"
     ]
    }
   ],
   "source": [
    "%%bash\n",
    "cd madgraph/\n",
    "git checkout -b v2.3.3\n",
    "./bin/mg5_aMC install.dat > /tmp/kk 2> /tmp/kkk\n",
    "cd .."
   ]
  },
  {
   "cell_type": "markdown",
   "metadata": {},
   "source": [
    "### Create MadGraph script with processes"
   ]
  },
  {
   "cell_type": "code",
   "execution_count": 3,
   "metadata": {
    "collapsed": true
   },
   "outputs": [],
   "source": [
    "LambdasL=[0.01,0.02,0.05,0.07,0.1,0.15,0.2,0.25,0.3,0.35,0.4,0.45,0.5,0.55,0.6,1.0,3.0,5.0,7.0,10.0]"
   ]
  },
  {
   "cell_type": "code",
   "execution_count": 4,
   "metadata": {
    "collapsed": true
   },
   "outputs": [],
   "source": [
    "MH0s=np.array([70,75,80,85,90,110,130,150,170,190,210,220,240])"
   ]
  },
  {
   "cell_type": "code",
   "execution_count": 5,
   "metadata": {},
   "outputs": [
    {
     "data": {
      "text/plain": [
       "20"
      ]
     },
     "execution_count": 5,
     "metadata": {},
     "output_type": "execute_result"
    }
   ],
   "source": [
    "len(LambdasL)"
   ]
  },
  {
   "cell_type": "markdown",
   "metadata": {},
   "source": [
    "```bash\n",
    "rsiii@gfif:~/IDM_VBF/Samples/mh0_vs_lal/scan$ ls delphes_events_[0-9][0-9]_*.root | more\n",
    "delphes_events_70_001_.root\n",
    "delphes_events_70_002_.root\n",
    "delphes_events_70_003_.root\n",
    "...\n",
    "...\n",
    "delphes_events_90_018_.root\n",
    "delphes_events_90_019_.root\n",
    "delphes_events_90_020_.root\n",
    "```"
   ]
  },
  {
   "cell_type": "markdown",
   "metadata": {},
   "source": [
    "```bash\n",
    "rsiii@gfif:~/IDM_VBF/Samples/mh0_vs_lal/scan$ ls delphes_events_[0-9][0-9][0-9]_*.root | more\n",
    "delphes_events_110_001_.root\n",
    "delphes_events_110_002_.root\n",
    "delphes_events_110_003_.root\n",
    "...\n",
    "...\n",
    "delphes_events_240_018_.root\n",
    "delphes_events_240_019_.root\n",
    "delphes_events_240_020_.root\n",
    "```"
   ]
  },
  {
   "cell_type": "markdown",
   "metadata": {},
   "source": [
    "cat readme.txt \n",
    "date 23/01/2017\n",
    "Delphes output (.root) for the set the points contained in data_mh0_vs_x.dat\n",
    "\n",
    "The data is organized as follows (in ascending order in lambda_L[lal] ):\n",
    "\n",
    "#lal #mh0[GeV] #xs[fb]   #Delphes name\n",
    "0.3 63.75 200        --> delphes_events_2.root\n",
    "0.4 64.80 200        --> delphes_events_3.root \n",
    "0.5 66.32 200        --> delphes_events_4.root\n",
    "0.6 68.05 200        --> delphes_events_5.root \n",
    "0.7 70.04 200        --> delphes_events_6.root\n",
    ".   .     .          --> \n",
    ".   .     .          --> \n",
    ".   .     .          -->\n",
    "\n",
    "The cross-section (xs) for the processes p p > h0 h0 j j\n",
    "for all the set of points is around 200 fb. [Except for\n",
    "the first point, with lal=0.3,  where the cross-section turns out to be 179 fb.]"
   ]
  },
  {
   "cell_type": "code",
   "execution_count": 6,
   "metadata": {
    "collapsed": true
   },
   "outputs": [],
   "source": [
    "df=pd.read_csv('Output_data.csv')"
   ]
  },
  {
   "cell_type": "code",
   "execution_count": 8,
   "metadata": {
    "collapsed": true
   },
   "outputs": [],
   "source": [
    "lha=pyslha.readSLHAFile('MadGraph_cards/benchmarks/param_card_template.dat')"
   ]
  },
  {
   "cell_type": "code",
   "execution_count": 31,
   "metadata": {},
   "outputs": [],
   "source": [
    "MHc=750\n",
    "MH0=230\n",
    "LHA_input_file='MadGraph_cards/benchmarks/param_card_BP'''+str(int(MHc))+'_'+str(int(MH0))+'.dat'\n",
    "lha.blocks['FRBLOCK'].entries[13]=MH0\n",
    "lha.blocks['FRBLOCK'].entries[14]=MHc\n",
    "lha.blocks['FRBLOCK'].entries[15]=MHc\n",
    "pyslha.writeSLHAFile(LHA_input_file,lha)"
   ]
  },
  {
   "cell_type": "code",
   "execution_count": 32,
   "metadata": {
    "collapsed": true
   },
   "outputs": [],
   "source": [
    "def preamble(MHc=750,MH0=110):\n",
    "    return '''import model InertDoublet_UFO\n",
    "define p = g u c d s b u~ c~ d~ s~ b~\n",
    "define j = p  \n",
    "define l+ = e+ mu+ \n",
    "define l- = e- mu- \n",
    "define vl = ve vm vt \n",
    "define vl~ = ve~ vm~ vt~\n",
    "\n",
    "generate p p > h2 h2 j j @0\n",
    "\n",
    "output ../studies/IDM/BP_'''+str(int(MHc))+'_'+str(int(MH0))+'''_vs_lambdaL\n",
    "\n",
    "'''\n",
    "\n",
    "def lamL_loop(LHA_input_file,MHc=750,MH0=110,lamL=0.01):\n",
    "    return '''launch ../studies/IDM/BP_'''+str(int(MHc))+'_'+str(int(MH0))+'''_vs_lambdaL\n",
    "../'''+LHA_input_file+'''\n",
    "../Cards/run_card.dat\n",
    "set wa0 auto\n",
    "set whch auto \n",
    "set lamL '''+str(lamL)+'''\n",
    "\n",
    "''' \n",
    "\n",
    "\n",
    "def closing(MHc=750,MH0=110):\n",
    "    return '''launch ../studies/IDM/BP_'''+str(int(MHc))+'_'+str(int(MH0))+'''_vs_lambdaL -i\n",
    "print_results --path=./result_BP_'''+str(int(MHc))+'_'+str(int(MH0))+'''_vs_lamdaL_mh0_110.txt --format=short\n",
    "\n",
    "done\n",
    "'''"
   ]
  },
  {
   "cell_type": "code",
   "execution_count": 33,
   "metadata": {
    "collapsed": true
   },
   "outputs": [],
   "source": [
    "MHc=750\n",
    "MH0=110\n",
    "MADGRAPH='madgraph'\n",
    "run_dir='Task_Asana'\n",
    "work_dir='studies/IDM/'+run_dir\n",
    "work_script='BP_'+str(int(MHc))+'_A_'+str(int(MH0))+'.txt'\n",
    "\n",
    "\n",
    "f=open(work_dir+'/'+work_script,'w')\n",
    "f.write( preamble(MHc,MH0) )\n",
    "for lamL in LambdasL:\n",
    "    f.write( lamL_loop(LHA_input_file,MHc,MH0,lamL=lamL) )\n",
    "f.write( closing(MHc,MH0) )\n",
    "f.close()"
   ]
  },
  {
   "cell_type": "code",
   "execution_count": 35,
   "metadata": {},
   "outputs": [
    {
     "name": "stdout",
     "output_type": "stream",
     "text": [
      "import model InertDoublet_UFO\r\n",
      "define p = g u c d s b u~ c~ d~ s~ b~\r\n",
      "define j = p  \r\n",
      "define l+ = e+ mu+ \r\n",
      "define l- = e- mu- \r\n",
      "define vl = ve vm vt \r\n",
      "define vl~ = ve~ vm~ vt~\r\n",
      "\r\n",
      "generate p p > h2 h2 j j @0\r\n",
      "\r\n",
      "output ../studies/IDM/BP_750_110_vs_lambdaL\r\n",
      "\r\n",
      "launch ../studies/IDM/BP_750_110_vs_lambdaL\r\n",
      "../MadGraph_cards/benchmarks/param_card_BP750_230.dat\r\n",
      "../Cards/run_card.dat\r\n",
      "set wa0 auto\r\n",
      "set whch auto \r\n",
      "set lamL 0.01\r\n",
      "\r\n",
      "launch ../studies/IDM/BP_750_110_vs_lambdaL\r\n",
      "../MadGraph_cards/benchmarks/param_card_BP750_230.dat\r\n",
      "../Cards/run_card.dat\r\n",
      "set wa0 auto\r\n",
      "set whch auto \r\n",
      "set lamL 0.02\r\n",
      "\r\n",
      "launch ../studies/IDM/BP_750_110_vs_lambdaL\r\n",
      "../MadGraph_cards/benchmarks/param_card_BP750_230.dat\r\n",
      "../Cards/run_card.dat\r\n",
      "set wa0 auto\r\n",
      "set whch auto \r\n",
      "set lamL 0.05\r\n",
      "\r\n",
      "launch ../studies/IDM/BP_750_110_vs_lambdaL\r\n",
      "../MadGraph_cards/benchmarks/param_card_BP750_230.dat\r\n",
      "../Cards/run_card.dat\r\n",
      "set wa0 auto\r\n",
      "set whch auto \r\n",
      "set lamL 0.07\r\n",
      "\r\n",
      "launch ../studies/IDM/BP_750_110_vs_lambdaL\r\n",
      "../MadGraph_cards/benchmarks/param_card_BP750_230.dat\r\n",
      "../Cards/run_card.dat\r\n",
      "set wa0 auto\r\n",
      "set whch auto \r\n",
      "set lamL 0.1\r\n",
      "\r\n",
      "launch ../studies/IDM/BP_750_110_vs_lambdaL\r\n",
      "../MadGraph_cards/benchmarks/param_card_BP750_230.dat\r\n",
      "../Cards/run_card.dat\r\n",
      "set wa0 auto\r\n",
      "set whch auto \r\n",
      "set lamL 0.15\r\n",
      "\r\n",
      "launch ../studies/IDM/BP_750_110_vs_lambdaL\r\n",
      "../MadGraph_cards/benchmarks/param_card_BP750_230.dat\r\n",
      "../Cards/run_card.dat\r\n",
      "set wa0 auto\r\n",
      "set whch auto \r\n",
      "set lamL 0.2\r\n",
      "\r\n",
      "launch ../studies/IDM/BP_750_110_vs_lambdaL\r\n",
      "../MadGraph_cards/benchmarks/param_card_BP750_230.dat\r\n",
      "../Cards/run_card.dat\r\n",
      "set wa0 auto\r\n",
      "set whch auto \r\n",
      "set lamL 0.25\r\n",
      "\r\n",
      "launch ../studies/IDM/BP_750_110_vs_lambdaL\r\n",
      "../MadGraph_cards/benchmarks/param_card_BP750_230.dat\r\n",
      "../Cards/run_card.dat\r\n",
      "set wa0 auto\r\n",
      "set whch auto \r\n",
      "set lamL 0.3\r\n",
      "\r\n",
      "launch ../studies/IDM/BP_750_110_vs_lambdaL\r\n",
      "../MadGraph_cards/benchmarks/param_card_BP750_230.dat\r\n",
      "../Cards/run_card.dat\r\n",
      "set wa0 auto\r\n",
      "set whch auto \r\n",
      "set lamL 0.35\r\n",
      "\r\n",
      "launch ../studies/IDM/BP_750_110_vs_lambdaL\r\n",
      "../MadGraph_cards/benchmarks/param_card_BP750_230.dat\r\n",
      "../Cards/run_card.dat\r\n",
      "set wa0 auto\r\n",
      "set whch auto \r\n",
      "set lamL 0.4\r\n",
      "\r\n",
      "launch ../studies/IDM/BP_750_110_vs_lambdaL\r\n",
      "../MadGraph_cards/benchmarks/param_card_BP750_230.dat\r\n",
      "../Cards/run_card.dat\r\n",
      "set wa0 auto\r\n",
      "set whch auto \r\n",
      "set lamL 0.45\r\n",
      "\r\n",
      "launch ../studies/IDM/BP_750_110_vs_lambdaL\r\n",
      "../MadGraph_cards/benchmarks/param_card_BP750_230.dat\r\n",
      "../Cards/run_card.dat\r\n",
      "set wa0 auto\r\n",
      "set whch auto \r\n",
      "set lamL 0.5\r\n",
      "\r\n",
      "launch ../studies/IDM/BP_750_110_vs_lambdaL\r\n",
      "../MadGraph_cards/benchmarks/param_card_BP750_230.dat\r\n",
      "../Cards/run_card.dat\r\n",
      "set wa0 auto\r\n",
      "set whch auto \r\n",
      "set lamL 0.55\r\n",
      "\r\n",
      "launch ../studies/IDM/BP_750_110_vs_lambdaL\r\n",
      "../MadGraph_cards/benchmarks/param_card_BP750_230.dat\r\n",
      "../Cards/run_card.dat\r\n",
      "set wa0 auto\r\n",
      "set whch auto \r\n",
      "set lamL 0.6\r\n",
      "\r\n",
      "launch ../studies/IDM/BP_750_110_vs_lambdaL\r\n",
      "../MadGraph_cards/benchmarks/param_card_BP750_230.dat\r\n",
      "../Cards/run_card.dat\r\n",
      "set wa0 auto\r\n",
      "set whch auto \r\n",
      "set lamL 1.0\r\n",
      "\r\n",
      "launch ../studies/IDM/BP_750_110_vs_lambdaL\r\n",
      "../MadGraph_cards/benchmarks/param_card_BP750_230.dat\r\n",
      "../Cards/run_card.dat\r\n",
      "set wa0 auto\r\n",
      "set whch auto \r\n",
      "set lamL 3.0\r\n",
      "\r\n",
      "launch ../studies/IDM/BP_750_110_vs_lambdaL\r\n",
      "../MadGraph_cards/benchmarks/param_card_BP750_230.dat\r\n",
      "../Cards/run_card.dat\r\n",
      "set wa0 auto\r\n",
      "set whch auto \r\n",
      "set lamL 5.0\r\n",
      "\r\n",
      "launch ../studies/IDM/BP_750_110_vs_lambdaL\r\n",
      "../MadGraph_cards/benchmarks/param_card_BP750_230.dat\r\n",
      "../Cards/run_card.dat\r\n",
      "set wa0 auto\r\n",
      "set whch auto \r\n",
      "set lamL 7.0\r\n",
      "\r\n",
      "launch ../studies/IDM/BP_750_110_vs_lambdaL\r\n",
      "../MadGraph_cards/benchmarks/param_card_BP750_230.dat\r\n",
      "../Cards/run_card.dat\r\n",
      "set wa0 auto\r\n",
      "set whch auto \r\n",
      "set lamL 10.0\r\n",
      "\r\n",
      "launch ../studies/IDM/BP_750_110_vs_lambdaL -i\r\n",
      "print_results --path=./result_BP_750_110_vs_lamdaL_mh0_110.txt --format=short\r\n",
      "\r\n",
      "done\r\n"
     ]
    }
   ],
   "source": [
    "cat studies/IDM/Task_Asana/BP_750_A_110.txt"
   ]
  },
  {
   "cell_type": "code",
   "execution_count": 9,
   "metadata": {
    "collapsed": true
   },
   "outputs": [],
   "source": [
    "s=subprocess.Popen(['mkdir','-p',work_dir],\n",
    "                 stdout=subprocess.PIPE, stderr=subprocess.PIPE).communicate()"
   ]
  },
  {
   "cell_type": "markdown",
   "metadata": {},
   "source": [
    "```bash\n",
    "# pip3 install subprocess.run && #pip2 install subprocess.run \n",
    "```"
   ]
  },
  {
   "cell_type": "code",
   "execution_count": 60,
   "metadata": {
    "collapsed": true
   },
   "outputs": [],
   "source": [
    "s=subprocess.Popen(['./bin/mg5_aMC','../'+work_dir+'/'+work_script], cwd=MADGRAPH,\n",
    "                                stdout=subprocess.PIPE, stderr=subprocess.PIPE)"
   ]
  },
  {
   "cell_type": "code",
   "execution_count": null,
   "metadata": {
    "collapsed": true
   },
   "outputs": [],
   "source": [
    "s.wait()\n",
    "(MGOUT,MGERR)=s.communicate()"
   ]
  },
  {
   "cell_type": "markdown",
   "metadata": {
    "collapsed": true
   },
   "source": [
    "%%bash\n",
    "cd madgraph/\n",
    "./bin/mg5_aMC ../studies/IDM/Task_Asana/BP_750_A_110.txt\n",
    "cd .."
   ]
  },
  {
   "cell_type": "markdown",
   "metadata": {},
   "source": [
    "### Prepare madevent script"
   ]
  },
  {
   "cell_type": "code",
   "execution_count": 16,
   "metadata": {
    "collapsed": true
   },
   "outputs": [],
   "source": [
    "pythia_script='TemplateRunPythiaDelphes_all.dat'\n",
    "if len(LambdasL)>99:\n",
    "    sys.exit('ERROR: UPDATE FORMAT FOR > 99 runs')\n",
    "f=open(work_dir+'/'+pythia_script,'w')\n",
    "for r in range(1,len(LambdasL)+1):\n",
    "    f.write('pythia run_%02d\\n' %r)\n",
    "    f.write('3\\n')\n",
    "    f.write('0\\n')\n",
    "f.close()"
   ]
  },
  {
   "cell_type": "code",
   "execution_count": 17,
   "metadata": {
    "collapsed": true
   },
   "outputs": [],
   "source": [
    "output_dir='studies/IDM/BP_'+str(int(MHc))+'_'+str(int(MH0))+'_vs_lambdaL'"
   ]
  },
  {
   "cell_type": "code",
   "execution_count": 18,
   "metadata": {
    "collapsed": true
   },
   "outputs": [],
   "source": [
    "s=subprocess.Popen(['./bin/madevent','../'+run_dir+'/'+pythia_script], cwd=output_dir,\n",
    "                                stdout=subprocess.PIPE, stderr=subprocess.PIPE)"
   ]
  },
  {
   "cell_type": "code",
   "execution_count": 19,
   "metadata": {
    "collapsed": true
   },
   "outputs": [],
   "source": [
    "s.wait()\n",
    "(PHOUT,PHERR)=s.communicate()"
   ]
  },
  {
   "cell_type": "markdown",
   "metadata": {},
   "source": [
    "print(PHOUT.decode('utf-8'))"
   ]
  },
  {
   "cell_type": "markdown",
   "metadata": {},
   "source": [
    "### Get results"
   ]
  },
  {
   "cell_type": "code",
   "execution_count": null,
   "metadata": {
    "collapsed": true
   },
   "outputs": [],
   "source": [
    "full_output='output'\n",
    "s=subprocess.Popen(['mkdir', '-p',full_output]).wait()\n",
    "\n",
    "#if 'xs_'+str(int(MH0)) not in df.columns.values:\n",
    "if True:\n",
    "    for r in range(1,len(LambdasL)+1):\n",
    "        nrun='%02d' %r\n",
    "        nrun3='%03d' %r\n",
    "        s=subprocess.Popen(['cp',output_dir+'/Events/run_'+nrun+'/tag_1_delphes_events.root', \n",
    "                            full_output+'/delphes_events_'+str(int(MH0))+'_'+nrun3+'_.root'],\n",
    "                             stdout=subprocess.PIPE, stderr=subprocess.PIPE)\n",
    "        if s.wait()>0:\n",
    "            sys.exit('Files not found')"
   ]
  },
  {
   "cell_type": "code",
   "execution_count": 7,
   "metadata": {},
   "outputs": [
    {
     "name": "stdout",
     "output_type": "stream",
     "text": [
      "events.lhe.gz  run_07_tag_1_banner.txt  unweighted_events.lhe.gz\r\n"
     ]
    }
   ],
   "source": [
    "ls studies/IDM/BP_750_110_vs_lambdaL/Events/run_07/"
   ]
  },
  {
   "cell_type": "markdown",
   "metadata": {},
   "source": [
    "### Other"
   ]
  },
  {
   "cell_type": "code",
   "execution_count": null,
   "metadata": {
    "collapsed": true
   },
   "outputs": [],
   "source": [
    "# %load studies/IDM/Task_Asana/TemplateRunPythiaDelphes_all.dat\n",
    "pythia run_01\n",
    "3\n",
    "0\n",
    "pythia run_02\n",
    "3\n",
    "0\n",
    "pythia run_03\n",
    "3\n",
    "0\n",
    "pythia run_04\n",
    "3\n",
    "0\n",
    "pythia run_05\n",
    "3\n",
    "0\n",
    "pythia run_06\n",
    "3\n",
    "0\n",
    "pythia run_07\n",
    "3\n",
    "0\n",
    "pythia run_08\n",
    "3\n",
    "0\n",
    "pythia run_09\n",
    "3\n",
    "0\n",
    "pythia run_10\n",
    "3\n",
    "0\n",
    "pythia run_11\n",
    "3\n",
    "0\n",
    "pythia run_12\n",
    "3\n",
    "0\n",
    "pythia run_13\n",
    "3\n",
    "0\n",
    "pythia run_14\n",
    "3\n",
    "0\n",
    "pythia run_15\n",
    "3\n",
    "0\n",
    "pythia run_16\n",
    "3\n",
    "0\n",
    "pythia run_17\n",
    "3\n",
    "0\n",
    "pythia run_18\n",
    "3\n",
    "0\n",
    "pythia run_19\n",
    "3\n",
    "0\n",
    "pythia run_20\n",
    "3\n",
    "0\n"
   ]
  },
  {
   "cell_type": "code",
   "execution_count": null,
   "metadata": {
    "collapsed": true
   },
   "outputs": [],
   "source": [
    "# %load studies/IDM/Task_Asana/TemplateRunPythiaDelphes_all.dat\n",
    "pythia run_01 \n",
    "3 \n",
    "0 \n",
    "pythia run_02 \n",
    "3 \n",
    "0 \n",
    "pythia run_03 \n",
    "3 \n",
    "0 \n",
    "pythia run_04 \n",
    "3 \n",
    "0 \n",
    "pythia run_05 \n",
    "3 \n",
    "0 \n",
    "pythia run_06 \n",
    "3 \n",
    "0 \n"
   ]
  },
  {
   "cell_type": "code",
   "execution_count": null,
   "metadata": {
    "collapsed": true
   },
   "outputs": [],
   "source": [
    "# %load studies/IDM/Task_Asana/BP_750_A_110.txt\n",
    "import model InertDoublet_UFO\n",
    "define p = g u c d s b u~ c~ d~ s~ b~\n",
    "define j = p  \n",
    "define l+ = e+ mu+ \n",
    "define l- = e- mu- \n",
    "define vl = ve vm vt \n",
    "define vl~ = ve~ vm~ vt~\n",
    "\n",
    "generate p p > h2 h2 j j @0\n",
    "\n",
    "output ../studies/IDM/BP_750_110_vs_lambdaL\n",
    "\n",
    "launch ../studies/IDM/BP_750_110_vs_lambdaL\n",
    "../MadGraph_cards/benchmarks/param_card_BP750_110.dat\n",
    "../Cards/run_card.dat\n",
    "set wa0 auto\n",
    "set whch auto \n",
    "set lamL 0.01\n",
    "\n",
    "launch ../studies/IDM/BP_750_110_vs_lambdaL\n",
    "../MadGraph_cards/benchmarks/param_card_BP750_110.dat\n",
    "../Cards/run_card.dat\n",
    "set wa0 auto\n",
    "set whch auto \n",
    "set lamL 0.02\n",
    "\n",
    "launch ../studies/IDM/BP_750_110_vs_lambdaL\n",
    "../MadGraph_cards/benchmarks/param_card_BP750_110.dat\n",
    "../Cards/run_card.dat\n",
    "set wa0 auto\n",
    "set whch auto \n",
    "set lamL 0.05\n",
    "\n",
    "launch ../studies/IDM/BP_750_110_vs_lambdaL\n",
    "../MadGraph_cards/benchmarks/param_card_BP750_110.dat\n",
    "../Cards/run_card.dat\n",
    "set wa0 auto\n",
    "set whch auto \n",
    "set lamL 0.07\n",
    "\n",
    "launch ../studies/IDM/BP_750_110_vs_lambdaL\n",
    "../MadGraph_cards/benchmarks/param_card_BP750_110.dat\n",
    "../Cards/run_card.dat\n",
    "set wa0 auto\n",
    "set whch auto \n",
    "set lamL 0.1\n",
    "\n",
    "launch ../studies/IDM/BP_750_110_vs_lambdaL\n",
    "../MadGraph_cards/benchmarks/param_card_BP750_110.dat\n",
    "../Cards/run_card.dat\n",
    "set wa0 auto\n",
    "set whch auto \n",
    "set lamL 0.15\n",
    "\n",
    "launch ../studies/IDM/BP_750_110_vs_lambdaL\n",
    "../MadGraph_cards/benchmarks/param_card_BP750_110.dat\n",
    "../Cards/run_card.dat\n",
    "set wa0 auto\n",
    "set whch auto \n",
    "set lamL 0.2\n",
    "\n",
    "launch ../studies/IDM/BP_750_110_vs_lambdaL\n",
    "../MadGraph_cards/benchmarks/param_card_BP750_110.dat\n",
    "../Cards/run_card.dat\n",
    "set wa0 auto\n",
    "set whch auto \n",
    "set lamL 0.25\n",
    "\n",
    "launch ../studies/IDM/BP_750_110_vs_lambdaL\n",
    "../MadGraph_cards/benchmarks/param_card_BP750_110.dat\n",
    "../Cards/run_card.dat\n",
    "set wa0 auto\n",
    "set whch auto \n",
    "set lamL 0.3\n",
    "\n",
    "launch ../studies/IDM/BP_750_110_vs_lambdaL\n",
    "../MadGraph_cards/benchmarks/param_card_BP750_110.dat\n",
    "../Cards/run_card.dat\n",
    "set wa0 auto\n",
    "set whch auto \n",
    "set lamL 0.35\n",
    "\n",
    "launch ../studies/IDM/BP_750_110_vs_lambdaL\n",
    "../MadGraph_cards/benchmarks/param_card_BP750_110.dat\n",
    "../Cards/run_card.dat\n",
    "set wa0 auto\n",
    "set whch auto \n",
    "set lamL 0.4\n",
    "\n",
    "launch ../studies/IDM/BP_750_110_vs_lambdaL\n",
    "../MadGraph_cards/benchmarks/param_card_BP750_110.dat\n",
    "../Cards/run_card.dat\n",
    "set wa0 auto\n",
    "set whch auto \n",
    "set lamL 0.45\n",
    "\n",
    "launch ../studies/IDM/BP_750_110_vs_lambdaL\n",
    "../MadGraph_cards/benchmarks/param_card_BP750_110.dat\n",
    "../Cards/run_card.dat\n",
    "set wa0 auto\n",
    "set whch auto \n",
    "set lamL 0.5\n",
    "\n",
    "launch ../studies/IDM/BP_750_110_vs_lambdaL\n",
    "../MadGraph_cards/benchmarks/param_card_BP750_110.dat\n",
    "../Cards/run_card.dat\n",
    "set wa0 auto\n",
    "set whch auto \n",
    "set lamL 0.55\n",
    "\n",
    "launch ../studies/IDM/BP_750_110_vs_lambdaL\n",
    "../MadGraph_cards/benchmarks/param_card_BP750_110.dat\n",
    "../Cards/run_card.dat\n",
    "set wa0 auto\n",
    "set whch auto \n",
    "set lamL 0.6\n",
    "\n",
    "launch ../studies/IDM/BP_750_110_vs_lambdaL\n",
    "../MadGraph_cards/benchmarks/param_card_BP750_110.dat\n",
    "../Cards/run_card.dat\n",
    "set wa0 auto\n",
    "set whch auto \n",
    "set lamL 1.0\n",
    "\n",
    "launch ../studies/IDM/BP_750_110_vs_lambdaL\n",
    "../MadGraph_cards/benchmarks/param_card_BP750_110.dat\n",
    "../Cards/run_card.dat\n",
    "set wa0 auto\n",
    "set whch auto \n",
    "set lamL 3.0\n",
    "\n",
    "launch ../studies/IDM/BP_750_110_vs_lambdaL\n",
    "../MadGraph_cards/benchmarks/param_card_BP750_110.dat\n",
    "../Cards/run_card.dat\n",
    "set wa0 auto\n",
    "set whch auto \n",
    "set lamL 5.0\n",
    "\n",
    "launch ../studies/IDM/BP_750_110_vs_lambdaL\n",
    "../MadGraph_cards/benchmarks/param_card_BP750_110.dat\n",
    "../Cards/run_card.dat\n",
    "set wa0 auto\n",
    "set whch auto \n",
    "set lamL 7.0\n",
    "\n",
    "launch ../studies/IDM/BP_750_110_vs_lambdaL\n",
    "../MadGraph_cards/benchmarks/param_card_BP750_110.dat\n",
    "../Cards/run_card.dat\n",
    "set wa0 auto\n",
    "set whch auto \n",
    "set lamL 10.0\n",
    "\n",
    "launch ../studies/IDM/BP_750_110_vs_lambdaL -i\n",
    "print_results --path=./result_BP_750_110_vs_lamdaL_mh0_110.txt --format=short\n",
    "\n",
    "done\n"
   ]
  },
  {
   "cell_type": "markdown",
   "metadata": {},
   "source": [
    "## Final program"
   ]
  },
  {
   "cell_type": "code",
   "execution_count": 13,
   "metadata": {},
   "outputs": [
    {
     "name": "stdout",
     "output_type": "stream",
     "text": [
      "Writing index.py\n"
     ]
    }
   ],
   "source": [
    "%%writefile index.py\n",
    "import sys\n",
    "# pip3 install subprocess.run && pip2 install subprocess.run\n",
    "# compatibily with last python3\n",
    "from subprocess import run as RUN\n",
    "def run(*args,**kwargs):\n",
    "    return RUN(*args,**kwargs).stderr\n",
    "\n",
    "import numpy as np\n",
    "import pandas as pd\n",
    "# pip3 install pyslha && pip3 install pyslha\n",
    "import pyslha\n",
    "\n",
    "\n",
    "def preamble(MHc=750,MH0=110):\n",
    "    return '''import model InertDoublet_UFO\n",
    "define p = g u c d s b u~ c~ d~ s~ b~\n",
    "define j = p  \n",
    "define l+ = e+ mu+ \n",
    "define l- = e- mu- \n",
    "define vl = ve vm vt \n",
    "define vl~ = ve~ vm~ vt~\n",
    "\n",
    "generate p p > h2 h2 j j @0\n",
    "\n",
    "output ../studies/IDM/BP_'''+str(int(MHc))+'_'+str(int(MH0))+'''_vs_lambdaL\n",
    "\n",
    "'''\n",
    "\n",
    "def lamL_loop(MHc=750,MH0=110,lamL=0.01):\n",
    "    return '''launch ../studies/IDM/BP_'''+str(int(MHc))+'_'+str(int(MH0))+'''_vs_lambdaL\n",
    "../MadGraph_cards/benchmarks/param_card_BP'''+str(int(MHc))+'_'+str(int(MH0))+'''.dat\n",
    "../Cards/run_card.dat\n",
    "set wa0 auto\n",
    "set whch auto \n",
    "set lamL '''+str(lamL)+'''\n",
    "\n",
    "''' \n",
    "\n",
    "def closing(MHc=750,MH0=110):\n",
    "    return '''launch ../studies/IDM/BP_'''+str(int(MHc))+'_'+str(int(MH0))+'''_vs_lambdaL -i\n",
    "print_results --path=./result_BP_'''+str(int(MHc))+'_'+str(int(MH0))+'''_vs_lamdaL_mh0_110.txt --format=short\n",
    "\n",
    "done\n",
    "'''\n",
    "\n",
    "MHc=750\n",
    "MH0=260\n",
    "MADGRAPH='madgraph'\n",
    "\n",
    "LambdasL=[0.01,0.02,0.05,0.07,0.1,0.15,0.2,0.25,0.3,0.35,0.4,0.45,0.5,0.55,0.6,1.0,3.0,5.0,7.0,10.0]\n",
    "\n",
    "#prepare dirs\n",
    "run('mkdir -p studies/IDM/Task_Asana')\n",
    "\n",
    "\n",
    "clone=False\n",
    "if clone:\n",
    "    run('git clone  --recursive git@gitlab.com:restrepo/VBF_IDM.git')\n",
    "    f=open('kk.sh','w')\n",
    "    f.write('cd '+MADGRAPH+'/\\n')\n",
    "    f.write('git checkout -b v2.3.3\\n')\n",
    "    f.write('./bin/mg5_aMC install.dat > /tmp/kk 2> /tmp/kkk')\n",
    "    f.close()\n",
    "    run('bash kk.sh')\n",
    "    \n",
    "#calculates cross section    \n",
    "cs_file='BP_'+str(int(MHc))+'_A_'+str(int(MH0))+'.txt'    \n",
    "f=open('studies/IDM/Task_Asana/'+cs_file,'w')\n",
    "f.write( preamble(MHc,MH0) )\n",
    "for lamL in LambdasL:\n",
    "    f.write( lamL_loop(MHc,MH0,lamL=lamL) )\n",
    "f.write( closing(MHc,MH0) )\n",
    "f.close()\n",
    "\n",
    "f=open('kk.sh','w')\n",
    "f.write('cd '+MADGRAPH+'\\n./bin/mg5_aMC ../studies/IDM/Task_Asana/'+cs_file+' > /tmp/kk' )\n",
    "f.close()\n",
    "\n",
    "run('bash kk.sh')\n",
    "\n",
    "# run pythia\n",
    "if len(LambdasL)>99:\n",
    "    sys.exit('ERROR: UPDATE FORMAT FOR > 99 runs')\n",
    "f=open('studies/IDM/Task_Asana/TemplateRunPythiaDelphes_all.dat','w')\n",
    "for r in range(1,len(LambdasL)+1):\n",
    "    f.write('pythia run_%02d\\n' %r)\n",
    "    f.write('3\\n')\n",
    "    f.write('0\\n')\n",
    "f.close()\n",
    "\n",
    "f=open('kk.sh','w')\n",
    "f.write('cd studies/IDM/BP_'+str(int(MHc))+'_'+str(int(MH0))+'_vs_lambdaL\\n')\n",
    "f.write('./bin/madevent ../Task_Asana/TemplateRunPythiaDelphes_all.dat')\n",
    "f.close()\n",
    "\n",
    "run('bash kk.sh')\n",
    "\n",
    "f=open('kk.sh','w')\n",
    "f.write('mkdir -p output\\n')\n",
    "\n",
    "#if 'xs_'+str(int(MH0)) not in df.columns.values:\n",
    "if True:\n",
    "    for r in range(1,len(LambdasL)+1):\n",
    "        nrun='%02d' %r\n",
    "        nrun3='%03d' %r\n",
    "        f.write('cp studies/IDM/BP_'+str(int(MHc))+'_'+str(int(MH0))+ \n",
    "              '_vs_lambdaL/Events/run_'+nrun+'/tag_1_delphes_events.root output/delphes_events_'+str(int(MH0))+\n",
    "              '_'+nrun3+'_.root\\n')\n",
    "    \n",
    "f.close()\n",
    "\n",
    "run('bash kk.sh')"
   ]
  },
  {
   "cell_type": "markdown",
   "metadata": {},
   "source": [
    "## Trash area"
   ]
  },
  {
   "cell_type": "markdown",
   "metadata": {},
   "source": [
    "Temporal area where preliminary approaches are tried for."
   ]
  }
 ],
 "metadata": {
  "kernelspec": {
   "display_name": "Python 3",
   "language": "python",
   "name": "python3"
  },
  "language_info": {
   "codemirror_mode": {
    "name": "ipython",
    "version": 3
   },
   "file_extension": ".py",
   "mimetype": "text/x-python",
   "name": "python",
   "nbconvert_exporter": "python",
   "pygments_lexer": "ipython3",
   "version": "3.4.2"
  },
  "latex_envs": {
   "LaTeX_envs_menu_present": true,
   "bibliofile": "biblio.bib",
   "cite_by": "apalike",
   "current_citInitial": 1,
   "eqLabelWithNumbers": true,
   "eqNumInitial": 1,
   "labels_anchors": false,
   "latex_user_defs": false,
   "report_style_numbering": false,
   "user_envs_cfg": false
  }
 },
 "nbformat": 4,
 "nbformat_minor": 2
}
