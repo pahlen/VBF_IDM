{
 "cells": [
  {
   "cell_type": "markdown",
   "metadata": {},
   "source": [
    "# Cuts from ROOT files"
   ]
  },
  {
   "cell_type": "markdown",
   "metadata": {},
   "source": [
    "## Initialization"
   ]
  },
  {
   "cell_type": "code",
   "execution_count": 45,
   "metadata": {
    "collapsed": true
   },
   "outputs": [],
   "source": [
    "import commands\n",
    "import pandas as pd"
   ]
  },
  {
   "cell_type": "code",
   "execution_count": null,
   "metadata": {
    "collapsed": true
   },
   "outputs": [],
   "source": []
  },
  {
   "cell_type": "code",
   "execution_count": 2,
   "metadata": {
    "collapsed": true
   },
   "outputs": [],
   "source": [
    "#If input samples is a list use 0 if is just one file use 1 on TSam variable\n",
    "def ChainConstructor(Samples, TreeName):\n",
    "    MainChain=ROOT.TChain(TreeName)\n",
    "    for filename in os.listdir(Samples):\n",
    "        for newfile in os.listdir(Samples+filename):\n",
    "            NSamples=Samples+filename+'/'+ newfile  \n",
    "            MainChain.Add(NSamples)\n",
    "            print NSamples+\" added!\"\n",
    "        #for f in Samples:\n",
    "        #    MainChain.Add(f)\n",
    "    return MainChain"
   ]
  },
  {
   "cell_type": "code",
   "execution_count": 84,
   "metadata": {
    "collapsed": true
   },
   "outputs": [],
   "source": [
    "from Generic import *\n",
    "\n",
    "ROOT.gROOT.ProcessLine(\"#include <math.h>\")\n",
    "ROOT.gROOT.Macro(\"rootphi.C\")\n",
    "\n",
    "#ROOT.gSystem.Load(\"/home/rsiii/Delphes-3.3.2/libDelphes.so\")\n",
    "#ROOT.gSystem.Load(\"/scratch/rsiii/Delphes-3.3.2/libDelphes.so\")\n",
    "ROOT.gSystem.Load(\"/home/gapalacic//HEP_tools/delphes/libDelphes.so\")\n",
    "#ROOT.gROOT.Macro(\"rootphi.C\")\n",
    "\n",
    "def GetHistoPy(RootFile,Tree,Var,BinsLim,CutApp,PDFname,DrawOpt):\n",
    "    '''\n",
    "    RootFile: RootFile created by Delphes\n",
    "    Tree:\n",
    "    Var: \n",
    "    BinsLim\n",
    "    CutApp\n",
    "    PDFname\n",
    "    DrawOpt\n",
    "    '''\n",
    "    #RFile= ROOT.TFile(RootFile, \"read\")\n",
    "    MainChain=ROOT.TChain(Tree)\n",
    "    MainChain.Add(RootFile)\n",
    "    CurCanv = rootnotes.canvas(\"MyPlot\", (600, 600))\n",
    "    EntriesList=[]\n",
    "    for i in xrange(len(Var)):\n",
    "        HistName=Var[i].replace(\"(\",\"\").replace(\")\",\"\").replace(\"[\",\"\").replace(\"]\",\"\").replace(\":\",\"\").replace(\".\",\"\").replace(\"-\",\"_\").replace(\" \",\"_\").replace(\"&&\",\"_and_\").replace(\"&\",\"_and_\").replace(\"*\",\"_\").replace(\">\",\"g\").replace(\"<\",\"l\").replace(\",\",\"l\")\n",
    "        #print Var[i]+\" >> \"+HistName+BinsLim[i]\n",
    "        MainChain.Draw(Var[i]+\" >> \"+HistName+BinsLim[i],CutApp[i])\n",
    "        TemHisto=ROOT.gDirectory.Get(HistName)\n",
    "        TemHisto.Draw(DrawOpt)\n",
    "        if i!=0 and i!=(len(Var)-1):\n",
    "            CurCanv.Print(PDFname,\"Title:\"+HistName)\n",
    "        elif i==0:\n",
    "            CurCanv.Print(PDFname+\"(\",\"Title:\"+HistName)\n",
    "        elif i==(len(Var)-1):\n",
    "            CurCanv.Print(PDFname+\")\",\"Title:\"+HistName)\n",
    "        EntriesList.append(TemHisto.GetEntries())\n",
    "        del(TemHisto)\n",
    "    return EntriesList\n",
    "\n",
    "def cuts_DY(FILES):\n",
    "    import pandas as pd\n",
    "    HToExtract=[\"TMath::Sqrt(2*Jet[0].PT*Jet[1].PT*(TMath::CosH(Jet[1].Eta-Jet[0].Eta)-(TMath::Cos(Jet[1].Phi-Jet[0].Phi))))\",\n",
    "               \"TMath::Sqrt(2*Jet[0].PT*Jet[1].PT*(TMath::CosH(Jet[1].Eta-Jet[0].Eta)-(TMath::Cos(Jet[1].Phi-Jet[0].Phi))))\"]\n",
    "\n",
    "    Binning=[\"(200,10,5000)\",\"(200,10,5000)\"]\n",
    "\n",
    "\n",
    "    Cut0=\"(MissingET.MET>260.)\"\n",
    "    Cut1=\"(Jet[0].PT>120.)\"\n",
    "    Cut2=\"(Jet[1].PT>90.)\"\n",
    "    Cut3=\"Jet[0].Flavor<5\"\n",
    "    Cut4=\"Jet[1].Flavor<5\"\n",
    "    Cut5=\"((TMath::Sqrt(2*Jet[0].PT*Jet[1].PT*(TMath::CosH(Jet[1].Eta-Jet[0].Eta)-(TMath::Cos(Jet[1].Phi-Jet[0].Phi))*deltaPhi(Jet[0].Phi,Jet[1].Phi) )))>75.)\"\n",
    "    #\"(TMath::Sqrt((TMath::Abs(Jet[0].Eta-Jet[1].Eta)*TMath::Abs(Jet[0].Eta-Jet[1].Eta))+(deltaPhi(Jet[0].Phi,Jet[1].Phi)*deltaPhi(Jet[0].Phi,Jet[1].Phi)))<1.8)\"\n",
    "    #\"(TMath::Abs(Jet[0].Eta-Jet[1].Eta)<1.8)\"\n",
    "    Cut6=\"((TMath::Sqrt(2*Jet[0].PT*Jet[1].PT*(TMath::CosH(Jet[1].Eta-Jet[0].Eta)-(TMath::Cos(Jet[1].Phi-Jet[0].Phi)))))>75.)\"\n",
    "    Cut7=\"((TMath::Sqrt(2*Jet[0].PT*Jet[1].PT*(TMath::CosH(Jet[1].Eta-Jet[0].Eta)-(TMath::Cos(Jet[1].Phi-Jet[0].Phi)))))<90.)\"\n",
    "    CutJM=\"(Jet_size==2)\"\n",
    "\n",
    "\n",
    "    VBF=CutJM+\"&&\"+Cut3+\"&&\"+Cut4+\"&&\"+Cut6+\"&&\"+Cut0\n",
    "    VBFandOS=VBF+\"&&\"+Cut5\n",
    "    JetsPT=Cut1+\"&&\"+Cut2 #+\"&&\"+Cut0\n",
    "\n",
    "    Cuts=[\"\",VBFandOS+\"&&\"+JetsPT+\"&&\"+Cut7]\n",
    "    print FILES\n",
    "    TOTAL_ENTRIES=[]\n",
    "    Efficiency=[]\n",
    "    TOTAL_ENT_START=0\n",
    "    TOTAL_ENT_END=0\n",
    "\n",
    "    for i in xrange(len(FILES)):\n",
    "        #time.sleep(./home/gapalaci/IDM_VBF/Samples/Zvv_jets1)\n",
    "        PDFfile=\"tmp.pdf\" #\"IDM_VBFDM_LaLvsMH0_\"+str(i)+\".pdf\"\n",
    "        TOTAL_ENTRIES.append(GetHistoPy(FILES[i],\"Delphes\",HToExtract,Binning,Cuts,PDFfile,\"hist E\"))\n",
    "        print \"~~~~~~~~~~~~~~~~~~~~~~~~~~~~~~~~~~~~~~~~~~~~~~~~~~~~~~~~~~~~~~~~~~~~~~~~~~~~~~~~~~~~\"\n",
    "        print FILES[i], \"Eff:\", TOTAL_ENTRIES[i][-1]/TOTAL_ENTRIES[i][0]\n",
    "        Efficiency.append(TOTAL_ENTRIES[i][-1]/TOTAL_ENTRIES[i][0])\n",
    "        print \"Entries before cuts:\", TOTAL_ENTRIES[i][0], \"Entries after cuts:\", TOTAL_ENTRIES[i][-1]\n",
    "        print \"~~~~~~~~~~~~~~~~~~~~~~~~~~~~~~~~~~~~~~~~~~~~~~~~~~~~~~~~~~~~~~~~~~~~~~~~~~~~~~~~~~~~\"\n",
    "        \n",
    "    return TOTAL_ENTRIES\n",
    "\n",
    "def cuts_VBF(FILES):\n",
    "    HToExtract=[\"TMath::Sqrt(2*Jet[0].PT*Jet[1].PT*(TMath::CosH(Jet[1].Eta-Jet[0].Eta)-(TMath::Cos(Jet[1].Phi-Jet[0].Phi))))\",\n",
    "               \"TMath::Sqrt(2*Jet[0].PT*Jet[1].PT*(TMath::CosH(Jet[1].Eta-Jet[0].Eta)-(TMath::Cos(Jet[1].Phi-Jet[0].Phi))))\"]\n",
    "\n",
    "    Binning=[\"(200,10,5000)\",\"(200,10,5000)\"]\n",
    "\n",
    "\n",
    "    Cut0=\"(MissingET.MET>180.)\"\n",
    "    Cut1=\"(Jet[0].PT>100.)\"\n",
    "    Cut2=\"(Jet[1].PT>50.)\"\n",
    "    Cut3=\"(TMath::Abs(Jet[0].Eta)<5.)\"\n",
    "    Cut4=\"(TMath::Abs(Jet[1].Eta)<5.)\"\n",
    "    Cut5=\"(TMath::Abs(Jet[0].Eta-Jet[1].Eta)>4.2)\"\n",
    "    Cut6=\"((Jet[0].Eta*Jet[1].Eta)<0.)\"\n",
    "    Cut7=\"((TMath::Sqrt(2*Jet[0].PT*Jet[1].PT*(TMath::CosH(Jet[1].Eta-Jet[0].Eta)-(TMath::Cos(Jet[1].Phi-Jet[0].Phi)))))>1000.)\"\n",
    "    CutJM=\"(Jet_size>=2)\"\n",
    "\n",
    "\n",
    "    VBF=CutJM+\"&&\"+Cut3+\"&&\"+Cut4+\"&&\"+Cut6+\"&&\"+Cut0\n",
    "    VBFandOS=VBF+\"&&\"+Cut5\n",
    "    JetsPT=Cut1+\"&&\"+Cut2 #+\"&&\"+Cut0\n",
    "\n",
    "    Cuts=[\"\",VBFandOS+\"&&\"+JetsPT+\"&&\"+Cut7]\n",
    "    print FILES\n",
    "    TOTAL_ENTRIES=[]\n",
    "    Efficiency=[]\n",
    "    TOTAL_ENT_START=0\n",
    "    TOTAL_ENT_END=0\n",
    "\n",
    "    for i in xrange(len(FILES)):\n",
    "        #time.sleep(./home/gapalaci/IDM_VBF/Samples/Zvv_jets1)\n",
    "        PDFfile=\"tmp.pdf\" #\"IDM_VBFDM_LaLvsMH0_\"+str(i)+\".pdf\"\n",
    "        TOTAL_ENTRIES.append(GetHistoPy(FILES[i],\"Delphes\",HToExtract,Binning,Cuts,PDFfile,\"hist E\"))\n",
    "        print \"~~~~~~~~~~~~~~~~~~~~~~~~~~~~~~~~~~~~~~~~~~~~~~~~~~~~~~~~~~~~~~~~~~~~~~~~~~~~~~~~~~~~\"\n",
    "        print FILES[i], \"Eff:\", TOTAL_ENTRIES[i][-1]/TOTAL_ENTRIES[i][0]\n",
    "        Efficiency.append(TOTAL_ENTRIES[i][-1]/TOTAL_ENTRIES[i][0])\n",
    "        print \"Entries before cuts:\", TOTAL_ENTRIES[i][0], \"Entries after cuts:\", TOTAL_ENTRIES[i][-1]\n",
    "        print \"~~~~~~~~~~~~~~~~~~~~~~~~~~~~~~~~~~~~~~~~~~~~~~~~~~~~~~~~~~~~~~~~~~~~~~~~~~~~~~~~~~~~\"\n",
    "    return TOTAL_ENTRIES"
   ]
  },
  {
   "cell_type": "markdown",
   "metadata": {},
   "source": [
    "## Analysis"
   ]
  },
  {
   "cell_type": "code",
   "execution_count": 85,
   "metadata": {
    "collapsed": true
   },
   "outputs": [],
   "source": [
    "lumi=1000 # fb-1"
   ]
  },
  {
   "cell_type": "code",
   "execution_count": 86,
   "metadata": {},
   "outputs": [],
   "source": [
    "MH0=65\n",
    "MHc=750\n",
    "XS_sig=pd.read_csv('../madgraph/result_BP_{:d}_{:d}_vs_lambdaL.txt'.format(MHc,MH0),sep=' ').tag.values[0]"
   ]
  },
  {
   "cell_type": "code",
   "execution_count": 87,
   "metadata": {
    "collapsed": true
   },
   "outputs": [],
   "source": [
    "#FILES=['./signal.root']\n",
    "#FILES=['../tmp/Events/run_01/tag_1_delphes_events.root']\n",
    "#FILES=['../studies/IDM/BP_200_65_vs_lambdaL/Events/run_01/tag_1_delphes_events.root']\n",
    "FILES=['../output/delphes_events_{:d}_{:d}.root'.format(MH0,MHc)]\n",
    "#FILES=['../output/delphes_events_65_500.root']\n",
    "#FILES=['../output/delphes_events_65_750.root']\n",
    "#FILES=['../output/delphes_events_120_750.root']"
   ]
  },
  {
   "cell_type": "markdown",
   "metadata": {},
   "source": [
    "## Cuts DY"
   ]
  },
  {
   "cell_type": "code",
   "execution_count": 88,
   "metadata": {
    "scrolled": true
   },
   "outputs": [
    {
     "name": "stdout",
     "output_type": "stream",
     "text": [
      "['../output/delphes_events_65_750.root']\n"
     ]
    },
    {
     "ename": "ReferenceError",
     "evalue": "attempt to access a null-pointer",
     "output_type": "error",
     "traceback": [
      "\u001b[0;31m---------------------------------------------------------------------------\u001b[0m",
      "\u001b[0;31mReferenceError\u001b[0m                            Traceback (most recent call last)",
      "\u001b[0;32m<ipython-input-88-14a84a1d3af8>\u001b[0m in \u001b[0;36m<module>\u001b[0;34m()\u001b[0m\n\u001b[0;32m----> 1\u001b[0;31m \u001b[0mTOTAL_ENTRIES\u001b[0m\u001b[0;34m=\u001b[0m\u001b[0mcuts_DY\u001b[0m\u001b[0;34m(\u001b[0m\u001b[0mFILES\u001b[0m\u001b[0;34m)\u001b[0m\u001b[0;34m\u001b[0m\u001b[0m\n\u001b[0m",
      "\u001b[0;32m<ipython-input-84-5c42bd9d3687>\u001b[0m in \u001b[0;36mcuts_DY\u001b[0;34m(FILES)\u001b[0m\n\u001b[1;32m     75\u001b[0m         \u001b[0;31m#time.sleep(./home/gapalaci/IDM_VBF/Samples/Zvv_jets1)\u001b[0m\u001b[0;34m\u001b[0m\u001b[0;34m\u001b[0m\u001b[0m\n\u001b[1;32m     76\u001b[0m         \u001b[0mPDFfile\u001b[0m\u001b[0;34m=\u001b[0m\u001b[0;34m\"tmp.pdf\"\u001b[0m \u001b[0;31m#\"IDM_VBFDM_LaLvsMH0_\"+str(i)+\".pdf\"\u001b[0m\u001b[0;34m\u001b[0m\u001b[0m\n\u001b[0;32m---> 77\u001b[0;31m         \u001b[0mTOTAL_ENTRIES\u001b[0m\u001b[0;34m.\u001b[0m\u001b[0mappend\u001b[0m\u001b[0;34m(\u001b[0m\u001b[0mGetHistoPy\u001b[0m\u001b[0;34m(\u001b[0m\u001b[0mFILES\u001b[0m\u001b[0;34m[\u001b[0m\u001b[0mi\u001b[0m\u001b[0;34m]\u001b[0m\u001b[0;34m,\u001b[0m\u001b[0;34m\"Delphes\"\u001b[0m\u001b[0;34m,\u001b[0m\u001b[0mHToExtract\u001b[0m\u001b[0;34m,\u001b[0m\u001b[0mBinning\u001b[0m\u001b[0;34m,\u001b[0m\u001b[0mCuts\u001b[0m\u001b[0;34m,\u001b[0m\u001b[0mPDFfile\u001b[0m\u001b[0;34m,\u001b[0m\u001b[0;34m\"hist E\"\u001b[0m\u001b[0;34m)\u001b[0m\u001b[0;34m)\u001b[0m\u001b[0;34m\u001b[0m\u001b[0m\n\u001b[0m\u001b[1;32m     78\u001b[0m         \u001b[0;32mprint\u001b[0m \u001b[0;34m\"~~~~~~~~~~~~~~~~~~~~~~~~~~~~~~~~~~~~~~~~~~~~~~~~~~~~~~~~~~~~~~~~~~~~~~~~~~~~~~~~~~~~\"\u001b[0m\u001b[0;34m\u001b[0m\u001b[0m\n\u001b[1;32m     79\u001b[0m         \u001b[0;32mprint\u001b[0m \u001b[0mFILES\u001b[0m\u001b[0;34m[\u001b[0m\u001b[0mi\u001b[0m\u001b[0;34m]\u001b[0m\u001b[0;34m,\u001b[0m \u001b[0;34m\"Eff:\"\u001b[0m\u001b[0;34m,\u001b[0m \u001b[0mTOTAL_ENTRIES\u001b[0m\u001b[0;34m[\u001b[0m\u001b[0mi\u001b[0m\u001b[0;34m]\u001b[0m\u001b[0;34m[\u001b[0m\u001b[0;34m-\u001b[0m\u001b[0;36m1\u001b[0m\u001b[0;34m]\u001b[0m\u001b[0;34m/\u001b[0m\u001b[0mTOTAL_ENTRIES\u001b[0m\u001b[0;34m[\u001b[0m\u001b[0mi\u001b[0m\u001b[0;34m]\u001b[0m\u001b[0;34m[\u001b[0m\u001b[0;36m0\u001b[0m\u001b[0;34m]\u001b[0m\u001b[0;34m\u001b[0m\u001b[0m\n",
      "\u001b[0;32m<ipython-input-84-5c42bd9d3687>\u001b[0m in \u001b[0;36mGetHistoPy\u001b[0;34m(RootFile, Tree, Var, BinsLim, CutApp, PDFname, DrawOpt)\u001b[0m\n\u001b[1;32m     29\u001b[0m         \u001b[0mMainChain\u001b[0m\u001b[0;34m.\u001b[0m\u001b[0mDraw\u001b[0m\u001b[0;34m(\u001b[0m\u001b[0mVar\u001b[0m\u001b[0;34m[\u001b[0m\u001b[0mi\u001b[0m\u001b[0;34m]\u001b[0m\u001b[0;34m+\u001b[0m\u001b[0;34m\" >> \"\u001b[0m\u001b[0;34m+\u001b[0m\u001b[0mHistName\u001b[0m\u001b[0;34m+\u001b[0m\u001b[0mBinsLim\u001b[0m\u001b[0;34m[\u001b[0m\u001b[0mi\u001b[0m\u001b[0;34m]\u001b[0m\u001b[0;34m,\u001b[0m\u001b[0mCutApp\u001b[0m\u001b[0;34m[\u001b[0m\u001b[0mi\u001b[0m\u001b[0;34m]\u001b[0m\u001b[0;34m)\u001b[0m\u001b[0;34m\u001b[0m\u001b[0m\n\u001b[1;32m     30\u001b[0m         \u001b[0mTemHisto\u001b[0m\u001b[0;34m=\u001b[0m\u001b[0mROOT\u001b[0m\u001b[0;34m.\u001b[0m\u001b[0mgDirectory\u001b[0m\u001b[0;34m.\u001b[0m\u001b[0mGet\u001b[0m\u001b[0;34m(\u001b[0m\u001b[0mHistName\u001b[0m\u001b[0;34m)\u001b[0m\u001b[0;34m\u001b[0m\u001b[0m\n\u001b[0;32m---> 31\u001b[0;31m         \u001b[0mTemHisto\u001b[0m\u001b[0;34m.\u001b[0m\u001b[0mDraw\u001b[0m\u001b[0;34m(\u001b[0m\u001b[0mDrawOpt\u001b[0m\u001b[0;34m)\u001b[0m\u001b[0;34m\u001b[0m\u001b[0m\n\u001b[0m\u001b[1;32m     32\u001b[0m         \u001b[0;32mif\u001b[0m \u001b[0mi\u001b[0m\u001b[0;34m!=\u001b[0m\u001b[0;36m0\u001b[0m \u001b[0;32mand\u001b[0m \u001b[0mi\u001b[0m\u001b[0;34m!=\u001b[0m\u001b[0;34m(\u001b[0m\u001b[0mlen\u001b[0m\u001b[0;34m(\u001b[0m\u001b[0mVar\u001b[0m\u001b[0;34m)\u001b[0m\u001b[0;34m-\u001b[0m\u001b[0;36m1\u001b[0m\u001b[0;34m)\u001b[0m\u001b[0;34m:\u001b[0m\u001b[0;34m\u001b[0m\u001b[0m\n\u001b[1;32m     33\u001b[0m             \u001b[0mCurCanv\u001b[0m\u001b[0;34m.\u001b[0m\u001b[0mPrint\u001b[0m\u001b[0;34m(\u001b[0m\u001b[0mPDFname\u001b[0m\u001b[0;34m,\u001b[0m\u001b[0;34m\"Title:\"\u001b[0m\u001b[0;34m+\u001b[0m\u001b[0mHistName\u001b[0m\u001b[0;34m)\u001b[0m\u001b[0;34m\u001b[0m\u001b[0m\n",
      "\u001b[0;31mReferenceError\u001b[0m: attempt to access a null-pointer"
     ]
    }
   ],
   "source": [
    "TOTAL_ENTRIES=cuts_DY(FILES)"
   ]
  },
  {
   "cell_type": "code",
   "execution_count": 66,
   "metadata": {},
   "outputs": [
    {
     "data": {
      "text/plain": [
       "16.660083360804112"
      ]
     },
     "execution_count": 66,
     "metadata": {},
     "output_type": "execute_result"
    }
   ],
   "source": [
    "efi=TOTAL_ENTRIES[i][-1]/TOTAL_ENTRIES[i][0]\n",
    "XS_sig*efi*lumi*1000 #pb->fb"
   ]
  },
  {
   "cell_type": "markdown",
   "metadata": {},
   "source": [
    "## Cuts VBF"
   ]
  },
  {
   "cell_type": "code",
   "execution_count": 67,
   "metadata": {},
   "outputs": [
    {
     "name": "stdout",
     "output_type": "stream",
     "text": [
      "['../output/delphes_events_65_750.root']\n",
      "~~~~~~~~~~~~~~~~~~~~~~~~~~~~~~~~~~~~~~~~~~~~~~~~~~~~~~~~~~~~~~~~~~~~~~~~~~~~~~~~~~~~\n",
      "../output/delphes_events_65_750.root Eff: 0.0388286242852\n",
      "Entries before cuts: 95136.0 Entries after cuts: 3694.0\n",
      "~~~~~~~~~~~~~~~~~~~~~~~~~~~~~~~~~~~~~~~~~~~~~~~~~~~~~~~~~~~~~~~~~~~~~~~~~~~~~~~~~~~~\n"
     ]
    }
   ],
   "source": [
    "TOTAL_ENTRIES=cuts_VBF(FILES)"
   ]
  },
  {
   "cell_type": "code",
   "execution_count": 68,
   "metadata": {},
   "outputs": [
    {
     "data": {
      "text/plain": [
       "325.6208885439703"
      ]
     },
     "execution_count": 68,
     "metadata": {},
     "output_type": "execute_result"
    }
   ],
   "source": [
    "efi=TOTAL_ENTRIES[i][-1]/TOTAL_ENTRIES[i][0]\n",
    "XS_sig*efi*lumi*1000"
   ]
  },
  {
   "cell_type": "code",
   "execution_count": 70,
   "metadata": {},
   "outputs": [
    {
     "data": {
      "text/plain": [
       "1.1126157732008257"
      ]
     },
     "execution_count": 70,
     "metadata": {},
     "output_type": "execute_result"
    }
   ],
   "source": [
    "325./np.sqrt(325+85000)"
   ]
  },
  {
   "cell_type": "code",
   "execution_count": null,
   "metadata": {
    "collapsed": true
   },
   "outputs": [],
   "source": [
    "En_sig_0=TOTAL_ENTRIES[i][0]\n",
    "En_back_0=TOTAL_ENTRIES[i][0]\n",
    "En_back=TOTAL_ENTRIES[i][-1]\n",
    "En_sig=TOTAL_ENTRIES[i][-1]"
   ]
  },
  {
   "cell_type": "code",
   "execution_count": 12,
   "metadata": {},
   "outputs": [
    {
     "name": "stdout",
     "output_type": "stream",
     "text": [
      "208.611745175\n"
     ]
    }
   ],
   "source": [
    "local1=(TOTAL_ENT_END/TOTAL_ENT_START)*lumi*1000.*XS_sig\n",
    "print local1"
   ]
  },
  {
   "cell_type": "code",
   "execution_count": null,
   "metadata": {
    "collapsed": true
   },
   "outputs": [],
   "source": [
    "local=(TOTAL_ENT_END/TOTAL_ENT_START)*lumi*1000.*XSZvv\n",
    "print local"
   ]
  },
  {
   "cell_type": "code",
   "execution_count": null,
   "metadata": {
    "collapsed": true
   },
   "outputs": [],
   "source": [
    "statist(XS_sig,XSZvv,lumi,En_sig,En_back,En_sig_0,En_back_0)"
   ]
  },
  {
   "cell_type": "code",
   "execution_count": 30,
   "metadata": {},
   "outputs": [
    {
     "name": "stdout",
     "output_type": "stream",
     "text": [
      "['/home/gapalaci/Dropbox/tmp/pp_kk/check_1.root']\n",
      "~~~~~~~~~~~~~~~~~~~~~~~~~~~~~~~~~~~~~~~~~~~~~~~~~~~~~~~~~~~~~~~~~~~~~~~~~~~~~~~~~~~~\n",
      "/home/gapalaci/Dropbox/tmp/pp_kk/check_1.root Eff: 6.32780082988\n",
      "Entries before cuts: 964.0 Entries after cuts: 61.0\n",
      "~~~~~~~~~~~~~~~~~~~~~~~~~~~~~~~~~~~~~~~~~~~~~~~~~~~~~~~~~~~~~~~~~~~~~~~~~~~~~~~~~~~~\n",
      "WHAT THE HELL\n",
      "1928.0 122.0\n"
     ]
    }
   ],
   "source": [
    "#FILETOOPEN=\"/home/rsiii/IDM_VBF/Samples/Signal/signal_pp_h2h2jj.root\"\n",
    "#FILETOOPEN=\"/home/rsiii/IDM_VBF/Samples/Signal/signal_pp_h2h2jj_LaL_0_2.root\"\n",
    "#\"\"\"FILES=[\"/home/rsiii/IDM_VBF/Samples/testing_gapalaci/tag_1_delphes_events.root]\"\"\"\n",
    "\"\"\"FILES=[\"/home/gapalaci/IDM_VBF/Samples/Signal/]\"\"\"\n",
    "#FILES=[\"/home/rsiii/IDM_VBF/Samples/Signal/signal_pp_h2h2jj_17.root\"]\n",
    "#FILES=[\"/home/rsiii/IDM_VBF/Samples/Signal/signal_pp_h2h2jj_LaL_0_2.root\"]#,\n",
    "      #\"/home/rsiii/IDM_VBF/Samples/Zvv_jets/Zvv_jets_13/run_07_delphes.root\"]\n",
    "\n",
    "\"\"\"PrePath=\"/home/rsiii/IDM_VBF/Samples/mh0_vs_lal/scan/\"\n",
    "#LSFILES=cmd.getoutput(\"ls \"+PrePath+\"*_mhp_250_*\")\n",
    "LSFILES2=cmd.getoutput(\"ls \"+PrePath+\"delphes_events_??_???_.root\")\n",
    "LSFILES3=cmd.getoutput(\"ls \"+PrePath+\"delphes_events_???_???_.root\")\n",
    "LSFILES=LSFILES2+LSFILES3\n",
    "print LSFILES\n",
    "FILES=[]\n",
    "for i in LSFILES.split(\"\\n\"):\n",
    "    if \".root\" in i: FILES.append(i)#PrePath+i) \n",
    "FILES.sort()\n",
    "#print FILES\"\"\"\n",
    "        \n",
    "HToExtract=[\"TMath::Sqrt(2*Jet[0].PT*Jet[1].PT*(TMath::CosH(Jet[1].Eta-Jet[0].Eta)-(TMath::Cos(Jet[1].Phi-Jet[0].Phi))))\",\n",
    "           \"TMath::Sqrt(2*Jet[0].PT*Jet[1].PT*(TMath::CosH(Jet[1].Eta-Jet[0].Eta)-(TMath::Cos(Jet[1].Phi-Jet[0].Phi))))\"]\n",
    "\n",
    "#HToExtract=[\"deltaPhi(Jet[0].Phi,Jet[1].Phi)\",\"deltaPhi(MissingET.Phi,Jet[0].Phi)\",\"deltaPhi(MissingET.Phi,Jet[1].Phi)\",\n",
    "#            \"deltaPhi(Jet[0].Phi,Jet[1].Phi)\",\"deltaPhi(MissingET.Phi,Jet[0].Phi)\",\"deltaPhi(MissingET.Phi,Jet[1].Phi)\"]\n",
    "\n",
    "#HToExtract=[\"Jet_size\",\"Jet_size\",\"Jet_size\",\"Jet_size\"]\n",
    "\n",
    "Binning=[\"(200,10,5000)\",\"(200,10,5000)\"]\n",
    "#Binning=[\"(10,0,3.2)\",\"(10,0,3.2)\",\"(10,0,3.2)\",\"(10,0,3.2)\",\"(10,0,3.2)\",\"(10,0,3.2)\"]\n",
    "#Binning=[\"(10,0,10)\",\"(10,0,10)\",\"(10,0,10)\",\"(10,0,10)\"]\n",
    "\n",
    "Cut0=\"(MissingET.MET>180.)\"\n",
    "Cut1=\"(Jet[0].PT>100.)\"\n",
    "Cut2=\"(Jet[1].PT>50.)\"\n",
    "Cut3=\"(TMath::Abs(Jet[0].Eta)<5.)\"\n",
    "Cut4=\"(TMath::Abs(Jet[1].Eta)<5.)\"\n",
    "Cut5=\"(TMath::Abs(Jet[0].Eta-Jet[1].Eta)>4.2)\"\n",
    "Cut6=\"((Jet[0].Eta*Jet[1].Eta)<0.)\"\n",
    "Cut7=\"((TMath::Sqrt(2*Jet[0].PT*Jet[1].PT*(TMath::CosH(Jet[1].Eta-Jet[0].Eta)-(TMath::Cos(Jet[1].Phi-Jet[0].Phi)))))>1000.)\"\n",
    "CutJM=\"(Jet_size>=2)\"\n",
    "#Cut8=\"(deltaPhi(MissingET.Phi,Jet[1].Phi)>0.5)\"\n",
    "\n",
    "VBF=CutJM+\"&&\"+Cut3+\"&&\"+Cut4+\"&&\"+Cut6+\"&&\"+Cut0\n",
    "VBFandOS=VBF+\"&&\"+Cut5\n",
    "JetsPT=Cut1+\"&&\"+Cut2 #+\"&&\"+Cut0\n",
    "\n",
    "Cuts=[\"\",VBFandOS+\"&&\"+JetsPT+\"&&\"+Cut7]\n",
    "#Cuts=[\"\",\"\",\"\",VBFandOS+\"&&\"+JetsPT+\"&&\"+Cut7,VBFandOS+\"&&\"+JetsPT+\"&&\"+Cut7,VBFandOS+\"&&\"+JetsPT+\"&&\"+Cut7]\n",
    "#CentralJetsCut=\"((TMath::Abs(Jet[0].Eta)<3.)&&(TMath::Abs(Jet[1].Eta)<3.)&&(TMath::Abs(Jet[2].Eta)<3.)&&(TMath::Abs(Jet[3].Eta)<3.)&&(TMath::Abs(Jet[4].Eta)<3.)&&(TMath::Abs(Jet[5].Eta)<3.)&&(TMath::Abs(Jet[6].Eta)<3.)&&(TMath::Abs(Jet[7].Eta)<3.))\"\n",
    "#CentralJetsCut=\"((TMath::Abs(Jet.Eta)<3.)*(1./Jet_size))\"\n",
    "#Cuts=[\"\",CentralJetsCut,VBFandOS+\"&&\"+JetsPT+\"&&\"+Cut7,VBFandOS+\"&&\"+JetsPT+\"&&\"+Cut7+\"&&\"+CentralJetsCut]\n",
    "\n",
    "\n",
    "#PDFfile=\"IDM_VBFDM_LaLvsMH0\"\n",
    "#GetHistoPy(RootFile,Tree,Var,BinsLim,CutApp,PDFname,DrawOpt)\n",
    "#GetHistoPy(FILETOOPEN,\"Delphes\",HToExtract,Binning,Cuts,PDFfile,\"hist E\")\n",
    "\n",
    "print FILES\n",
    "TOTAL_ENTRIES=[]\n",
    "Efficiency=[]\n",
    "TOTAL_ENT_START=0\n",
    "TOTAL_ENT_END=0\n",
    "\n",
    "for i in xrange(len(FILES)):\n",
    "    time.sleep(.1)\n",
    "    PDFfile=\"IDM_VBFDM_LaLvsMH0_\"+str(i)+\".pdf\"\n",
    "    TOTAL_ENTRIES.append(GetHistoPy(FILES[i],\"Delphes\",HToExtract,Binning,Cuts,PDFfile,\"hist E\"))\n",
    "    print \"~~~~~~~~~~~~~~~~~~~~~~~~~~~~~~~~~~~~~~~~~~~~~~~~~~~~~~~~~~~~~~~~~~~~~~~~~~~~~~~~~~~~\"\n",
    "    print FILES[i], \"Eff:\", 100*TOTAL_ENTRIES[i][-1]/TOTAL_ENTRIES[i][0]\n",
    "    Efficiency.append(100*TOTAL_ENTRIES[i][-1]/TOTAL_ENTRIES[i][0])\n",
    "    print \"Entries before cuts:\", TOTAL_ENTRIES[i][0], \"Entries after cuts:\", TOTAL_ENTRIES[i][-1]\n",
    "    print \"~~~~~~~~~~~~~~~~~~~~~~~~~~~~~~~~~~~~~~~~~~~~~~~~~~~~~~~~~~~~~~~~~~~~~~~~~~~~~~~~~~~~\"\n",
    "    TOTAL_ENT_START=TOTAL_ENT_START + TOTAL_ENTRIES[0][0] + TOTAL_ENTRIES[i][0]\n",
    "    TOTAL_ENT_END  =TOTAL_ENT_END + TOTAL_ENTRIES[0][-1] + TOTAL_ENTRIES[i][-1]\n",
    "print \"WHAT THE HELL\"\n",
    "print TOTAL_ENT_START, TOTAL_ENT_END\n",
    "#print FILES\n",
    "#print Efficiency"
   ]
  },
  {
   "cell_type": "code",
   "execution_count": null,
   "metadata": {
    "collapsed": true
   },
   "outputs": [],
   "source": [
    "#lumi=30.\n",
    "XSZvv"
   ]
  },
  {
   "cell_type": "code",
   "execution_count": null,
   "metadata": {
    "collapsed": true
   },
   "outputs": [],
   "source": [
    "local4=100*(TOTAL_ENT_END/TOTAL_ENT_START), (TOTAL_ENT_END/TOTAL_ENT_START)*lumi*1000.*XSZvv\n",
    "print local4"
   ]
  },
  {
   "cell_type": "code",
   "execution_count": 14,
   "metadata": {},
   "outputs": [
    {
     "name": "stdout",
     "output_type": "stream",
     "text": [
      "55.6297987134\n"
     ]
    }
   ],
   "source": [
    "local3=(TOTAL_ENT_END/TOTAL_ENT_START)*lumi*1000.*XS_sig\n",
    "print local3"
   ]
  },
  {
   "cell_type": "code",
   "execution_count": null,
   "metadata": {
    "collapsed": true
   },
   "outputs": [],
   "source": [
    "local2=(TOTAL_ENT_END/TOTAL_ENT_START)*lumi*1000.*XSZvv\n",
    "print local2"
   ]
  },
  {
   "cell_type": "code",
   "execution_count": null,
   "metadata": {
    "collapsed": true
   },
   "outputs": [],
   "source": [
    "print TOTAL_ENT_END, TOTAL_ENT_START, 100*TOTAL_ENT_END/TOTAL_ENT_START"
   ]
  },
  {
   "cell_type": "code",
   "execution_count": 19,
   "metadata": {
    "collapsed": true
   },
   "outputs": [],
   "source": [
    "def stattt(Ns,Nb):\n",
    "    import numpy as np\n",
    "    Sig=Ns/np.sqrt(Ns+Nb)\n",
    "    return Sig"
   ]
  },
  {
   "cell_type": "code",
   "execution_count": 20,
   "metadata": {},
   "outputs": [
    {
     "data": {
      "text/plain": [
       "1.2316358876991065"
      ]
     },
     "execution_count": 20,
     "metadata": {},
     "output_type": "execute_result"
    }
   ],
   "source": [
    "stattt(208.6,28477)"
   ]
  },
  {
   "cell_type": "code",
   "execution_count": 21,
   "metadata": {},
   "outputs": [
    {
     "data": {
      "text/plain": [
       "3.1134481933733498"
      ]
     },
     "execution_count": 21,
     "metadata": {},
     "output_type": "execute_result"
    }
   ],
   "source": [
    "stattt(6000,3707806)"
   ]
  },
  {
   "cell_type": "markdown",
   "metadata": {},
   "source": [
    "stattt(208.6,28477)stattt(208.6,28477)"
   ]
  },
  {
   "cell_type": "code",
   "execution_count": 22,
   "metadata": {
    "collapsed": true
   },
   "outputs": [],
   "source": [
    "s_o=55.6\n",
    "s_t=208.6\n",
    "b_o=296725.\n",
    "b_t=2278."
   ]
  },
  {
   "cell_type": "code",
   "execution_count": 25,
   "metadata": {},
   "outputs": [
    {
     "name": "stdout",
     "output_type": "stream",
     "text": [
      "4.18322610917 0.102060346236\n"
     ]
    }
   ],
   "source": [
    "print stattt(s_t,b_t), stattt(s_o,b_o)"
   ]
  },
  {
   "cell_type": "code",
   "execution_count": null,
   "metadata": {
    "collapsed": true
   },
   "outputs": [],
   "source": []
  }
 ],
 "metadata": {
  "kernelspec": {
   "display_name": "Python 2",
   "language": "python",
   "name": "python2"
  },
  "language_info": {
   "codemirror_mode": {
    "name": "ipython",
    "version": 2
   },
   "file_extension": ".py",
   "mimetype": "text/x-python",
   "name": "python",
   "nbconvert_exporter": "python",
   "pygments_lexer": "ipython2",
   "version": "2.7.9"
  },
  "latex_envs": {
   "LaTeX_envs_menu_present": true,
   "bibliofile": "biblio.bib",
   "cite_by": "apalike",
   "current_citInitial": 1,
   "eqLabelWithNumbers": true,
   "eqNumInitial": 1,
   "labels_anchors": false,
   "latex_user_defs": false,
   "report_style_numbering": false,
   "user_envs_cfg": false
  }
 },
 "nbformat": 4,
 "nbformat_minor": 1
}
